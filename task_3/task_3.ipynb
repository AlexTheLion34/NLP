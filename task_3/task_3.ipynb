{
 "nbformat": 4,
 "nbformat_minor": 0,
 "metadata": {
  "colab": {
   "name": "Task_3.ipynb\"",
   "provenance": [
    {
     "file_id": "1iLgFDbWJ9BI6ccX_Ei9L9MxcESaR5yxJ",
     "timestamp": 1616349654610
    }
   ],
   "collapsed_sections": [],
   "toc_visible": true
  },
  "kernelspec": {
   "display_name": "Python 3",
   "language": "python",
   "name": "python3"
  },
  "language_info": {
   "codemirror_mode": {
    "name": "ipython",
    "version": 3
   },
   "file_extension": ".py",
   "mimetype": "text/x-python",
   "name": "python",
   "nbconvert_exporter": "python",
   "pygments_lexer": "ipython3",
   "version": "3.7.7"
  }
 },
 "cells": [
  {
   "cell_type": "markdown",
   "metadata": {
    "id": "piMDCL4Piu6F"
   },
   "source": [
    "# Texts classification\n",
    "\n",
    "__In this notebook__ you will build an algorithm that classifies SMS messages into ham or spam.\n",
    "Like in many real-world cases, you only have a small dataset of hand-labeled examples to work with. We'll tackle this problem using both classical nlp methods and embedding-based approach."
   ]
  },
  {
   "cell_type": "code",
   "metadata": {
    "id": "gcXaXtx4iu6M",
    "executionInfo": {
     "status": "ok",
     "timestamp": 1617022076772,
     "user_tz": -180,
     "elapsed": 2995,
     "user": {
      "displayName": "Алексей Петренко",
      "photoUrl": "",
      "userId": "00651841928058647062"
     }
    }
   },
   "source": [
    "import numpy as np\n",
    "import matplotlib.pyplot as plt\n",
    "import pandas as pd\n",
    "from sklearn.model_selection import train_test_split\n",
    "from sklearn.metrics import roc_auc_score, roc_curve\n",
    "from nltk.stem import WordNetLemmatizer\n",
    "import re\n",
    "%matplotlib inline"
   ],
   "execution_count": 1,
   "outputs": []
  },
  {
   "cell_type": "code",
   "metadata": {
    "colab": {
     "base_uri": "https://localhost:8080/",
     "height": 359
    },
    "id": "pR1BQlodiu6N",
    "executionInfo": {
     "status": "ok",
     "timestamp": 1617022079787,
     "user_tz": -180,
     "elapsed": 803,
     "user": {
      "displayName": "Алексей Петренко",
      "photoUrl": "",
      "userId": "00651841928058647062"
     }
    },
    "outputId": "5c472c0c-0e8f-4cdf-c19e-f53a22d36384"
   },
   "source": [
    "data = pd.read_csv(\"spam.csv\", encoding = 'ISO-8859-1')\n",
    "data = data[['v1', 'v2']]\n",
    "data['v1'] = (data['v1'] == 'spam').astype(int)\n",
    "\n",
    "texts = data['v2'].values\n",
    "labels = data['v1'].values\n",
    "data.head(10)"
   ],
   "execution_count": 2,
   "outputs": [
    {
     "output_type": "execute_result",
     "data": {
      "text/html": [
       "<div>\n",
       "<style scoped>\n",
       "    .dataframe tbody tr th:only-of-type {\n",
       "        vertical-align: middle;\n",
       "    }\n",
       "\n",
       "    .dataframe tbody tr th {\n",
       "        vertical-align: top;\n",
       "    }\n",
       "\n",
       "    .dataframe thead th {\n",
       "        text-align: right;\n",
       "    }\n",
       "</style>\n",
       "<table border=\"1\" class=\"dataframe\">\n",
       "  <thead>\n",
       "    <tr style=\"text-align: right;\">\n",
       "      <th></th>\n",
       "      <th>v1</th>\n",
       "      <th>v2</th>\n",
       "    </tr>\n",
       "  </thead>\n",
       "  <tbody>\n",
       "    <tr>\n",
       "      <th>0</th>\n",
       "      <td>0</td>\n",
       "      <td>Go until jurong point, crazy.. Available only ...</td>\n",
       "    </tr>\n",
       "    <tr>\n",
       "      <th>1</th>\n",
       "      <td>0</td>\n",
       "      <td>Ok lar... Joking wif u oni...</td>\n",
       "    </tr>\n",
       "    <tr>\n",
       "      <th>2</th>\n",
       "      <td>1</td>\n",
       "      <td>Free entry in 2 a wkly comp to win FA Cup fina...</td>\n",
       "    </tr>\n",
       "    <tr>\n",
       "      <th>3</th>\n",
       "      <td>0</td>\n",
       "      <td>U dun say so early hor... U c already then say...</td>\n",
       "    </tr>\n",
       "    <tr>\n",
       "      <th>4</th>\n",
       "      <td>0</td>\n",
       "      <td>Nah I don't think he goes to usf, he lives aro...</td>\n",
       "    </tr>\n",
       "    <tr>\n",
       "      <th>5</th>\n",
       "      <td>1</td>\n",
       "      <td>FreeMsg Hey there darling it's been 3 week's n...</td>\n",
       "    </tr>\n",
       "    <tr>\n",
       "      <th>6</th>\n",
       "      <td>0</td>\n",
       "      <td>Even my brother is not like to speak with me. ...</td>\n",
       "    </tr>\n",
       "    <tr>\n",
       "      <th>7</th>\n",
       "      <td>0</td>\n",
       "      <td>As per your request 'Melle Melle (Oru Minnamin...</td>\n",
       "    </tr>\n",
       "    <tr>\n",
       "      <th>8</th>\n",
       "      <td>1</td>\n",
       "      <td>WINNER!! As a valued network customer you have...</td>\n",
       "    </tr>\n",
       "    <tr>\n",
       "      <th>9</th>\n",
       "      <td>1</td>\n",
       "      <td>Had your mobile 11 months or more? U R entitle...</td>\n",
       "    </tr>\n",
       "  </tbody>\n",
       "</table>\n",
       "</div>"
      ],
      "text/plain": [
       "   v1                                                 v2\n",
       "0   0  Go until jurong point, crazy.. Available only ...\n",
       "1   0                      Ok lar... Joking wif u oni...\n",
       "2   1  Free entry in 2 a wkly comp to win FA Cup fina...\n",
       "3   0  U dun say so early hor... U c already then say...\n",
       "4   0  Nah I don't think he goes to usf, he lives aro...\n",
       "5   1  FreeMsg Hey there darling it's been 3 week's n...\n",
       "6   0  Even my brother is not like to speak with me. ...\n",
       "7   0  As per your request 'Melle Melle (Oru Minnamin...\n",
       "8   1  WINNER!! As a valued network customer you have...\n",
       "9   1  Had your mobile 11 months or more? U R entitle..."
      ]
     },
     "metadata": {
      "tags": []
     },
     "execution_count": 2
    }
   ]
  },
  {
   "cell_type": "code",
   "metadata": {
    "id": "ecJl9w1Niu6O",
    "executionInfo": {
     "status": "ok",
     "timestamp": 1617022092999,
     "user_tz": -180,
     "elapsed": 825,
     "user": {
      "displayName": "Алексей Петренко",
      "photoUrl": "",
      "userId": "00651841928058647062"
     }
    }
   },
   "source": [
    "from sklearn.model_selection import train_test_split\n",
    "texts_train, texts_test, y_train, y_test = train_test_split(texts, labels, test_size=0.5, random_state=42)"
   ],
   "execution_count": 3,
   "outputs": []
  },
  {
   "cell_type": "code",
   "metadata": {
    "id": "ZXvt7djfiu6P",
    "executionInfo": {
     "status": "ok",
     "timestamp": 1617022095126,
     "user_tz": -180,
     "elapsed": 816,
     "user": {
      "displayName": "Алексей Петренко",
      "photoUrl": "",
      "userId": "00651841928058647062"
     }
    }
   },
   "source": [
    "# another dataset for sentiment analysis of movie reviews\n",
    "\n",
    "# train_data = pd.read_csv(\"imdb_reviews/train.csv\")\n",
    "# test_data = pd.read_csv(\"imdb_reviews/test.csv\")\n",
    "# texts_train = train_data['reviews'].values\n",
    "# y_train = train_data['sentiment'].values\n",
    "# texts_test = test_data['reviews'].values\n",
    "# y_test = test_data['sentiment'].values"
   ],
   "execution_count": 4,
   "outputs": []
  },
  {
   "cell_type": "markdown",
   "metadata": {
    "id": "X80BNfodiu6Q"
   },
   "source": [
    "__Note:__ it is generally a good idea to split data into train/test before anything is done to them.\n",
    "\n",
    "It guards you against possible data leakage in the preprocessing stage. For example, should you decide to select words present in obscene tweets as features, you should only count those words over the training set. Otherwise your algoritm can cheat evaluation."
   ]
  },
  {
   "cell_type": "markdown",
   "metadata": {
    "id": "BuBPVPiRiu6Q"
   },
   "source": [
    "### Preprocessing and tokenization\n",
    "\n",
    "Comments contain raw text with punctuation, upper/lowercase letters and even newline symbols.\n",
    "\n",
    "To simplify all further steps, we'll split text into space-separated tokens using one of nltk tokenizers."
   ]
  },
  {
   "cell_type": "code",
   "metadata": {
    "colab": {
     "base_uri": "https://localhost:8080/"
    },
    "id": "_L5ZHM0jiu6Q",
    "executionInfo": {
     "status": "ok",
     "timestamp": 1617022099364,
     "user_tz": -180,
     "elapsed": 1572,
     "user": {
      "displayName": "Алексей Петренко",
      "photoUrl": "",
      "userId": "00651841928058647062"
     }
    },
    "outputId": "fa5acbfd-2592-4754-8cdf-cdc7465e5636"
   },
   "source": [
    "import nltk\n",
    "nltk.download('wordnet')\n",
    "def preprocess(text):\n",
    "    return re.findall(re.compile(r'[\\w]+'), text.lower())\n",
    "\n",
    "\n",
    "lemmatizer = WordNetLemmatizer()\n",
    "\n",
    "\n",
    "def make_lemmas(tokens):\n",
    "    return ' '.join(list(map(lambda t: lemmatizer.lemmatize(t), tokens)))\n",
    "\n",
    "\n"
   ],
   "execution_count": 5,
   "outputs": [
    {
     "output_type": "stream",
     "text": [
      "[nltk_data] Downloading package wordnet to /root/nltk_data...\n",
      "[nltk_data]   Unzipping corpora/wordnet.zip.\n"
     ],
     "name": "stdout"
    }
   ]
  },
  {
   "cell_type": "code",
   "metadata": {
    "id": "pNXIgueYiu6R",
    "executionInfo": {
     "status": "ok",
     "timestamp": 1617022104783,
     "user_tz": -180,
     "elapsed": 3389,
     "user": {
      "displayName": "Алексей Петренко",
      "photoUrl": "",
      "userId": "00651841928058647062"
     }
    }
   },
   "source": [
    "# task: preprocess each comment in train and test\n",
    "texts_train = [make_lemmas(preprocess(text=text)) for text in texts_train]\n",
    "texts_test = [make_lemmas(preprocess(text=text)) for text in texts_test]"
   ],
   "execution_count": 6,
   "outputs": []
  },
  {
   "cell_type": "markdown",
   "metadata": {
    "id": "ndfKQTwCiu6S"
   },
   "source": [
    "### Solving it: bag of words\n",
    "\n",
    "One traditional approach to such problem is to use bag of words features:\n",
    "1. build a vocabulary of frequent words (use train data only)\n",
    "2. for each training sample, count the number of times a word occurs in it (for each word in vocabulary).\n",
    "3. consider this count a feature for some classifier\n",
    "\n",
    "__Note:__ in practice, you can compute such features using sklearn. Please don't do that in the current assignment, though.\n",
    "* `from sklearn.feature_extraction.text import CountVectorizer, TfidfVectorizer`"
   ]
  },
  {
   "cell_type": "code",
   "metadata": {
    "colab": {
     "base_uri": "https://localhost:8080/"
    },
    "id": "PPUOTm5eiu6S",
    "executionInfo": {
     "status": "ok",
     "timestamp": 1617022115314,
     "user_tz": -180,
     "elapsed": 1030,
     "user": {
      "displayName": "Алексей Петренко",
      "photoUrl": "",
      "userId": "00651841928058647062"
     }
    },
    "outputId": "35612cd8-9c17-4cb1-d348-21f867c93002"
   },
   "source": [
    "# task: find up to k most frequent tokens in texts_train,\n",
    "# sort them by number of occurences (highest first)\n",
    "def make_bag_of_words(comments, number_of_features):\n",
    "    bag = dict()\n",
    "    for comment in comments:\n",
    "        for word in comment.split(' '):\n",
    "            if word not in bag.keys():\n",
    "                bag[word] = 1\n",
    "            else:\n",
    "                bag[word] += 1\n",
    "\n",
    "    return dict(sorted(bag.items(), key=lambda item: item[1], reverse=True)[:number_of_features])\n",
    "\n",
    "\n",
    "k = 10000\n",
    "bow_vocabulary = make_bag_of_words(comments=texts_train, number_of_features=k)\n",
    "\n",
    "print('example features:', bow_vocabulary)"
   ],
   "execution_count": 8,
   "outputs": [
    {
     "output_type": "stream",
     "text": [
      "example features: {'i': 1500, 'to': 1125, 'you': 1094, 'a': 803, 'the': 640, 'u': 634, 'in': 461, 'is': 451, 'and': 449, 'it': 428, 'me': 426, 'for': 376, 'your': 367, 'my': 349, 'of': 300, 'call': 289, 'have': 284, 's': 281, 'that': 279, '2': 271, 'now': 253, 'on': 253, 'are': 252, 'so': 232, 't': 230, 'm': 225, 'but': 219, 'at': 216, 'or': 212, 'get': 211, 'we': 210, 'not': 207, 'can': 205, 'will': 203, 'ur': 196, 'do': 192, 'just': 186, 'if': 184, 'be': 179, 'no': 176, 'with': 175, 'lt': 167, 'this': 167, 'gt': 164, '4': 160, 'å': 158, 'what': 155, 'go': 155, 'how': 149, 'all': 148, 'when': 145, 'ok': 142, 'up': 139, 'free': 139, 'from': 136, 'day': 130, 'know': 130, 'then': 130, 'out': 126, 'time': 126, 'like': 121, 'll': 120, 'come': 120, 'got': 118, 'there': 114, 'am': 112, 'only': 111, 'love': 109, 'he': 107, 'good': 106, 'send': 102, 'want': 102, 'wa': 100, 'text': 98, 'one': 98, 'going': 91, 'txt': 91, 'r': 91, 'today': 91, 'da': 90, 'need': 87, 'home': 86, 'mobile': 84, 'lor': 84, '1': 83, 'by': 79, 'sorry': 79, 'c': 78, 'think': 78, 'stop': 77, 'she': 77, 'see': 76, 'back': 75, 'about': 75, 'pls': 74, 'please': 74, 'phone': 73, 'n': 73, 'still': 73, 'take': 72, 'don': 72, 'co': 71, 'hi': 69, 'week': 69, 'our': 68, 'her': 68, 'tell': 68, 'an': 67, 'dont': 67, 'some': 67, 'night': 66, 'reply': 66, 'they': 66, 'hey': 65, 'later': 65, 'him': 64, 'ì_': 64, 'new': 63, 'd': 63, 'did': 63, 'msg': 62, 'any': 61, 'message': 61, 'been': 61, 'say': 61, 'k': 60, 'well': 60, 'more': 60, 'dear': 59, 'make': 59, 'here': 58, 'happy': 58, 'where': 57, 'claim': 57, 'ha': 57, 'won': 56, 're': 55, 'cash': 54, 'tomorrow': 54, 'much': 54, 'way': 54, 'yes': 53, 'thing': 53, 'min': 52, 'who': 52, 'number': 52, 'work': 51, 'oh': 50, 'had': 50, '3': 50, 'hope': 50, 'too': 50, 'www': 49, 've': 49, 'let': 47, 'babe': 46, 'great': 46, 'im': 46, 'prize': 46, 'give': 46, 'already': 45, 'friend': 45, 'b': 45, 'amp': 45, 'e': 45, 'very': 44, 'ask': 44, 'them': 44, 'feel': 43, 'uk': 43, 'last': 43, 'right': 43, 'after': 43, 'meet': 42, 'really': 42, 'also': 41, 'said': 41, 'first': 41, 'find': 41, 'tone': 41, 'wat': 40, 'should': 40, 'why': 40, 'sent': 40, 'lol': 39, 'doing': 39, 'anything': 39, 'keep': 38, 'win': 38, 'something': 38, 'before': 37, 'which': 37, 'life': 37, 'thanks': 37, 'buy': 37, 'sure': 36, 'wait': 36, 'tonight': 36, 'money': 36, 'nokia': 36, 'miss': 35, 'ya': 35, 'morning': 35, 'com': 35, 'urgent': 35, 'next': 35, 'soon': 35, 'wish': 34, 'x': 34, 'year': 34, 'every': 34, 'pick': 34, 'gonna': 34, '50': 33, 'per': 33, 'lot': 33, 'cant': 33, 'would': 33, 'heart': 32, 'were': 32, 'chat': 32, 'done': 32, 'service': 32, 'care': 32, 'sm': 32, 'yeah': 32, 'waiting': 31, '5': 31, 'went': 31, 'class': 31, 'late': 30, 'ìï': 30, 'off': 30, 'contact': 30, 'people': 30, 'around': 29, 'could': 29, 'told': 29, 'nice': 29, 'haha': 29, 'help': 29, 'place': 29, 'many': 28, '150p': 28, 'down': 28, 'talk': 28, 'special': 28, 'show': 28, 'car': 28, 'few': 28, 'again': 28, 'y': 28, 'hello': 27, 'may': 27, 'guy': 27, 'fine': 27, 'sleep': 27, '6': 27, 'wan': 27, 'mean': 27, '7': 27, 'word': 27, 'leave': 27, 'smile': 27, 'his': 27, 'meeting': 27, 'someone': 26, 'name': 26, 'room': 26, 'other': 26, 'guaranteed': 26, '1000': 26, 'weekend': 26, '500': 25, 'getting': 25, 'bit': 25, 'thought': 25, 'even': 25, 'coming': 25, 'man': 25, 'yet': 25, 'dun': 25, 'end': 25, 'month': 25, 'live': 25, 'over': 25, 'use': 25, 'same': 25, 'best': 24, 'holiday': 24, 'start': 24, 'hour': 24, '16': 24, 'lar': 24, 'yup': 23, 'wanna': 23, 'trying': 23, 'girl': 23, 'customer': 23, 'gud': 23, 'minute': 23, 'didn': 23, 'voucher': 22, 'draw': 22, 'thk': 22, 'mind': 22, 'try': 22, 'wk': 22, 'cost': 22, 'look': 22, 'dat': 22, '1st': 22, 'check': 22, 'pic': 22, 'problem': 22, 'person': 22, 'part': 21, 'latest': 21, 'forgot': 21, 'world': 21, 'box': 21, 'thats': 21, 'face': 21, 'two': 21, 'finish': 21, 'lunch': 21, 'remember': 21, 'receive': 21, 'never': 21, 'actually': 20, 'job': 20, 'cool': 20, 'nothing': 20, 'always': 20, 'early': 20, 'might': 20, 'stuff': 20, 'speak': 20, 'reach': 20, 'god': 20, 'baby': 20, 'ah': 19, 'rate': 19, 'orange': 19, 'camera': 19, '100': 19, 'luv': 19, 'line': 19, 'being': 19, 'watch': 19, 'guess': 19, 'house': 19, '18': 19, 'liao': 19, 'birthday': 19, 'better': 19, 'made': 19, 'thanx': 19, 'worry': 19, 'enjoy': 19, 'ever': 19, 'having': 19, 'missing': 19, 'aight': 18, 'offer': 18, 'quite': 18, 'once': 18, 'g': 18, 'boy': 18, 'yo': 18, '2nd': 18, 'sat': 18, 'landline': 18, 'ringtone': 18, 'than': 18, 'pa': 18, 'eat': 18, 'into': 18, 'another': 18, 'play': 18, 'sir': 18, 'tmr': 18, 'hav': 17, 'those': 17, 'awarded': 17, 'dad': 17, 'v': 17, 'po': 17, 'de': 17, 'anyway': 17, 'till': 17, '150ppm': 17, 'dinner': 17, 'real': 17, 'watching': 17, 'ready': 17, 'shit': 17, 'princess': 17, 'everything': 17, 'game': 17, '8': 17, 'big': 17, 'came': 17, 'because': 17, 'most': 17, 'leh': 17, 'plan': 16, 'school': 16, 'must': 16, 'movie': 16, 'easy': 16, 'fuck': 16, '000': 16, 'wot': 16, 'account': 16, 'without': 16, 'half': 16, 'believe': 16, 'question': 16, 'probably': 16, 'fun': 16, 'pain': 16, 'shopping': 16, 'selected': 16, 'wanted': 16, 'left': 16, 'bad': 16, 'bus': 16, 'sweet': 15, 'bt': 15, 'yourself': 15, 'top': 15, 'ring': 15, 'xxx': 15, 'havent': 15, 'put': 15, 'sister': 15, 'sound': 15, 'point': 15, 'abt': 15, 'pay': 15, 'chance': 15, 'little': 15, 'hurt': 15, 'juz': 15, 'called': 15, 'player': 15, 'apply': 15, 'drink': 15, 'award': 15, 'doe': 15, 'update': 15, 'tv': 15, 'plz': 15, 'brother': 14, 'thank': 14, 'pound': 14, 'row': 14, 'gift': 14, 'pub': 14, 'change': 14, 'driving': 14, 'shop': 14, 'long': 14, '2000': 14, 'book': 14, 'okay': 14, 'between': 14, '10p': 14, 'collection': 14, 'town': 14, 'ill': 14, 'û': 14, 'shall': 14, 'able': 14, 'til': 14, 'wont': 14, 'http': 14, '9': 14, 'didnt': 14, 'kiss': 14, 'office': 14, 'decimal': 14, '10': 13, 'date': 13, 'double': 13, 'drop': 13, 'yesterday': 13, 'evening': 13, 'hand': 13, 'enough': 13, 'food': 13, 'national': 13, 'working': 13, 'started': 13, 'leaving': 13, 'net': 13, 'mate': 13, 'test': 13, 'nite': 13, 'asked': 13, 'join': 13, 'wil': 13, 'dis': 13, 'these': 13, 'hear': 13, '30': 13, 'attempt': 13, 'else': 13, 'collect': 13, 'mail': 13, 'full': 12, 'bed': 12, 'together': 12, 'bout': 12, 'sexy': 12, 'lesson': 12, 'took': 12, 'friendship': 12, 'mob': 12, 'haven': 12, 'coz': 12, 'gd': 12, '5000': 12, 'mine': 12, 'wake': 12, 'stay': 12, 'trip': 12, 'wif': 12, 'away': 12, 'making': 12, 'online': 12, 'huh': 12, 'goin': 12, 'since': 12, 'mum': 12, 'maybe': 12, 'saying': 12, 'email': 11, 'though': 11, 'either': 11, 'entry': 11, 'pretty': 11, 'each': 11, 'nt': 11, 'feeling': 11, 'old': 11, 'network': 11, 'plus': 11, 'alright': 11, 'simple': 11, 'code': 11, 'order': 11, 'area': 11, 'answer': 11, 'w': 11, 'colour': 11, 'gone': 11, 'hot': 11, 'ltd': 11, 'true': 11, 'important': 11, 'bonus': 11, 'awesome': 11, 'blue': 11, 'smiling': 11, 'taking': 11, 'operator': 11, 'si': 11, 'xmas': 11, 'fast': 11, 'looking': 11, 'forget': 11, 'dunno': 11, 'id': 11, 'smth': 11, 'poly': 11, 'match': 11, 'gr8': 10, 'usf': 10, 'haf': 10, '86688': 10, 'suite342': 10, '2lands': 10, 'meant': 10, 'weekly': 10, 'st': 10, 'lucky': 10, 'both': 10, 'dream': 10, 'until': 10, 'close': 10, 'story': 10, 'yr': 10, 'visit': 10, 'sae': 10, 'neva': 10, 'gal': 10, 'happen': 10, 'almost': 10, 'den': 10, 'friday': 10, 'finished': 10, 'caller': 10, '8007': 10, 'dude': 10, 'busy': 10, 'pm': 10, 'credit': 10, 'winner': 10, 'auction': 10, 'afternoon': 10, 'thinking': 10, 'jus': 10, 'okie': 10, 'couple': 10, 'post': 10, 'charge': 10, 'beautiful': 9, 'missed': 9, 'boytoy': 9, 'frnd': 9, 'ard': 9, 'used': 9, 'drug': 9, 'music': 9, 'uncle': 9, 'choose': 9, '11': 9, 'alone': 9, 'land': 9, 'gym': 9, 'sleeping': 9, 'wife': 9, 'delivery': 9, 'sending': 9, 'wonderful': 9, 'complimentary': 9, 'await': 9, 'loving': 9, 'lei': 9, 'company': 9, 'available': 9, 'jay': 9, 'tried': 9, 'unlimited': 9, '800': 9, 'congrats': 9, 'tot': 9, 'joy': 9, 'father': 9, 'logo': 9, 'break': 9, 'fr': 9, 'darlin': 9, 'calling': 9, 'saw': 9, 'reason': 9, 'telling': 9, 'snow': 9, 'log': 9, 'information': 9, 'content': 9, 'eve': 9, 'red': 9, 'blood': 9, 'nope': 9, 'whatever': 9, 'yours': 9, 'course': 9, 'isn': 9, 'f': 9, 'project': 9, 'party': 9, 'news': 9, 'knw': 9, 'ten': 9, 'bored': 9, 'price': 9, 'sch': 9, 'noe': 9, 'wen': 9, 'frnds': 9, 'walk': 9, 'wkly': 9, 'lose': 9, 'song': 9, 'read': 8, 'goodmorning': 8, 'run': 8, 'seeing': 8, 'college': 8, 'figure': 8, 'balance': 8, 'hg': 8, 'le': 8, 'congratulation': 8, 'kind': 8, 'tomo': 8, 'family': 8, 'ntt': 8, 'treat': 8, 'valid': 8, 'kid': 8, 'quiz': 8, 'whats': 8, 'tho': 8, 'cover': 8, 'press': 8, 'usual': 8, 'sad': 8, '150': 8, 'video': 8, 'info': 8, 'yep': 8, 'second': 8, 'secret': 8, 'film': 8, 'head': 8, 'happened': 8, 'convey': 8, '250': 8, 'john': 8, 'th': 8, 'hmm': 8, 'al': 8, 'case': 8, 'detail': 8, '200': 8, 'fantasy': 8, '20p': 8, 'oredi': 8, 'mom': 8, 'via': 8, 'poor': 8, 'ugh': 8, 'mon': 8, 'far': 8, 'opt': 8, 'study': 8, 'age': 8, 'angry': 8, 'sun': 8, 'reading': 8, 'hard': 8, 'fancy': 8, 'set': 8, 'india': 8, 'least': 8, 'felt': 8, 'park': 8, 'earlier': 8, 'christmas': 8, '03': 8, 'lover': 8, 'unsubscribe': 8, 'ac': 8, 'bank': 8, 'hows': 8, 'wana': 8, 'bring': 8, 'tc': 8, 'freemsg': 8, 'aft': 8, 'bill': 8, 'o': 8, 'doesn': 8, 'rply': 8, 'while': 8, 'carlos': 7, 'energy': 7, 'crave': 7, 'cd': 7, 'sony': 7, 'gas': 7, 'semester': 7, 'happiness': 7, 'nobody': 7, '12hrs': 7, 'luck': 7, 'voice': 7, 'write': 7, 'hit': 7, 'wun': 7, 'rite': 7, 'direct': 7, 'hr': 7, 'ice': 7, 'oso': 7, 'open': 7, 'fucking': 7, 'ipod': 7, 'wonder': 7, 'nyt': 7, 'rest': 7, 'reached': 7, 'hair': 7, 'pobox': 7, '0870': 7, 'summer': 7, 'sight': 7, 'hold': 7, 'specially': 7, 'stupid': 7, 'others': 7, 'card': 7, 'opinion': 7, 'hungry': 7, 'exam': 7, 'dating': 7, 'bathe': 7, 'search': 7, 'sea': 7, 'address': 7, '02': 7, 'pc': 7, 'welcome': 7, 'everyone': 7, 'single': 7, 'talking': 7, 'sec': 7, 'dvd': 7, 'nigeria': 7, 'disturb': 7, 'side': 7, '11mths': 7, 'egg': 7, 'move': 7, 'hw': 7, 'final': 7, 'complete': 7, 'save': 7, 'mrng': 7, 'mr': 7, 'decide': 7, 'indian': 7, '350': 7, 'yar': 7, 'laugh': 7, 'drive': 7, 'accept': 7, 'truth': 6, 'leaf': 6, 'woke': 6, 'na': 6, 'whenever': 6, '4u': 6, 'currently': 6, 'w1j6hl': 6, '25p': 6, 'mobileupd8': 6, '08000839402': 6, 'noon': 6, 'fetch': 6, 'club': 6, 'aha': 6, 'shouldn': 6, 'spend': 6, 'lost': 6, 'mm': 6, 'cause': 6, 'mode': 6, 'goodnight': 6, 'hotel': 6, 'asking': 6, 'difficult': 6, 'nxt': 6, 'outside': 6, 'pete': 6, 'type': 6, 'different': 6, 'listen': 6, 'orchard': 6, 'sell': 6, 'charged': 6, 'hmmm': 6, 'gap': 6, 'lovely': 6, 'normal': 6, 'wondering': 6, '20': 6, 'link': 6, 'wasn': 6, '1327': 6, 'croydon': 6, 'cr9': 6, '5wb': 6, 'prob': 6, 'cafe': 6, 'comin': 6, 'die': 6, 'tel': 6, 'safe': 6, 'surprise': 6, 'pray': 6, 'pas': 6, 'woman': 6, 'laptop': 6, 'kb': 6, 'lovable': 6, 'picking': 6, 'yahoo': 6, 'shower': 6, 'super': 6, 'etc': 6, 'bslvyl': 6, 'monday': 6, 'copy': 6, 'decided': 6, 'found': 6, 'mu': 6, 'entered': 6, '12': 6, 'holder': 6, 'wid': 6, 'small': 6, 'as': 6, 'short': 6, 'anymore': 6, 'supposed': 6, 'somebody': 6, 'loverboy': 6, 'askd': 6, 'invited': 6, 'smoke': 6, 'rakhesh': 6, 'road': 6, 'deep': 6, 'gave': 6, 'reward': 6, 'own': 6, 'discount': 6, 'flight': 6, 'inc': 6, 'finally': 6, 'seems': 6, 'extra': 6, 'crazy': 6, 'tired': 6, 'paper': 6, 'lect': 6, 'their': 6, 'grin': 6, 'anyone': 6, 'touch': 6, 'menu': 6, 'lady': 6, 'battery': 6, 'fri': 6, 'eye': 6, 'ex': 6, 'tm': 6, 'eh': 6, 'sofa': 6, 'wrong': 6, 'frm': 6, 'chikku': 6, 'sunshine': 6, 'ni8': 6, 'jst': 6, 'worth': 6, 'comuk': 6, 'tick': 6, 'against': 5, 'geeee': 5, 'under': 5, 'page': 5, 'maximize': 5, 'cc': 5, 'texting': 5, 'quick': 5, 'pack': 5, '87066': 5, 'fall': 5, 'quality': 5, 'immediately': 5, 'omw': 5, 'cancer': 5, 'definitely': 5, 'return': 5, 'street': 5, '82277': 5, 'eating': 5, 'interesting': 5, 'ma': 5, 'english': 5, 'iam': 5, 'lazy': 5, 'bother': 5, 'parent': 5, 'representative': 5, '7pm': 5, '750': 5, 'load': 5, 'sunday': 5, 'posted': 5, 'buying': 5, 'self': 5, 'j': 5, 'thinkin': 5, 'sub': 5, 'photo': 5, 'liked': 5, 'private': 5, 'statement': 5, 'identifier': 5, 'expires': 5, 'meh': 5, 'quote': 5, 'married': 5, 'tuesday': 5, 'reaching': 5, 'regard': 5, 'ad': 5, 'thru': 5, 'train': 5, 'û_': 5, 'ti': 5, 'style': 5, 'flirt': 5, 'rather': 5, 'reference': 5, 'enter': 5, 'cut': 5, 'txting': 5, '21': 5, 'heard': 5, 'camcorder': 5, 'kate': 5, 'child': 5, '08707509020': 5, 'cheap': 5, 'walking': 5, 'team': 5, 'sale': 5, 'request': 5, 'gotta': 5, 'sick': 5, 'correct': 5, 'eg': 5, '0800': 5, 'tear': 5, 'wit': 5, 'lemme': 5, 'bos': 5, 'saturday': 5, 'onto': 5, 'fantastic': 5, 'happening': 5, 'sigh': 5, '2nite': 5, 'forwarded': 5, 'nah': 5, 'ticket': 5, 'turn': 5, 'term': 5, 'b4': 5, 'rose': 5, 'support': 5, 'some1': 5, 'marry': 5, 'appointment': 5, 'doctor': 5, 'future': 5, 'planned': 5, 'present': 5, 'doin': 5, 'umma': 5, 'glad': 5, 'bcoz': 5, 'pussy': 5, 'across': 5, 'slept': 5, 'seen': 5, 'valentine': 5, '86021': 5, 'spree': 5, 'store': 5, 'round': 5, 'mah': 5, 'spent': 5, 'reveal': 5, 'apartment': 5, 'fixed': 5, 'idea': 5, 'motorola': 5, 'call2optout': 5, 'joined': 5, 'through': 5, 'tht': 5, 'tat': 5, 'chennai': 5, 'bag': 5, 'txts': 5, 'forward': 5, 'wiv': 5, 'entitled': 5, 'ge': 5, 'rock': 5, 'shirt': 5, 'xx': 5, 'realy': 5, 'izzit': 5, '06': 5, 'sex': 5, 'record': 5, 'fullonsms': 5, 'registered': 5, 'spook': 5, 'student': 5, 'within': 5, 'arrange': 5, 'decision': 5, 'flower': 5, 'sitting': 5, 'dead': 5, 'fault': 5, 'mistake': 5, 'slow': 5, 'bak': 5, 'mrt': 5, 'member': 5, '00': 5, 'aiyo': 5, 'computer': 5, 'wow': 5, 'ho': 5, 'ending': 5, 'stopped': 5, 'cup': 5, 'searching': 5, 'dog': 5, 'dnt': 5, 'download': 5, 'xy': 5, 'ldn': 5, 'abiola': 5, 'using': 5, 'finger': 5, 'wap': 5, 'replying': 5, 'country': 5, 'loan': 5, 'depends': 5, 'weight': 5, 'enemy': 5, 'tenerife': 5, 'trouble': 5, 'empty': 5, 'valued': 5, 'kinda': 5, 'sort': 5, 'sport': 5, 'light': 4, 'heavy': 4, 'sit': 4, 'swing': 4, '08718720201': 4, 'vodafone': 4, 'respond': 4, 'subscription': 4, 'wrc': 4, 'rally': 4, 'lucozade': 4, 'model': 4, 'donåõt': 4, 'understand': 4, 'met': 4, 'cum': 4, 'p': 4, 'seem': 4, 'omg': 4, 'pissed': 4, 'mark': 4, 'yoga': 4, 'imma': 4, 'catch': 4, 'login': 4, 'hospital': 4, 'unsub': 4, 'sp': 4, 'gently': 4, 'remove': 4, 'coin': 4, 'kallis': 4, 'excuse': 4, 'doesnt': 4, 'brand': 4, '434': 4, 'facebook': 4, 'darling': 4, '08718727870': 4, 'fact': 4, 'gay': 4, 'mayb': 4, 'access': 4, '2003': 4, 'un': 4, 'redeemed': 4, '04': 4, 'excellent': 4, 'moan': 4, 'freephone': 4, 'star': 4, 'sign': 4, 'textpod': 4, '40gb': 4, 'custcare': 4, 'naughty': 4, 'gettin': 4, '2day': 4, 'unable': 4, 'connect': 4, 'ringtones': 4, 'zed': 4, 'fone': 4, 'tb': 4, 'relax': 4, 'worse': 4, 'somethin': 4, 'din': 4, 'instead': 4, 'budget': 4, 'died': 4, 'lmao': 4, 'leg': 4, 'medical': 4, 'door': 4, 'couldn': 4, 'user': 4, 'urawinner': 4, 'silent': 4, 'oops': 4, 'getzed': 4, 'cartoon': 4, 'longer': 4, 'begin': 4, 'qatar': 4, 'list': 4, 'including': 4, 'romantic': 4, 'funny': 4, 'timing': 4, 'bought': 4, 'italian': 4, 'totally': 4, 'goto': 4, 'report': 4, 'knew': 4, 'thatåõs': 4, 'ahmad': 4, 'loved': 4, 'tonite': 4, 'callertune': 4, 'due': 4, 'ago': 4, 'forever': 4, 'ahead': 4, 'damn': 4, 'mp3': 4, 'website': 4, 'seemed': 4, 'weak': 4, 'system': 4, 'biggest': 4, '7250i': 4, 'w1jhl': 4, 'map': 4, 'slave': 4, 'created': 4, 'bitch': 4, 'receipt': 4, 'horny': 4, 'admirer': 4, 'buck': 4, 'hiya': 4, 'bluetooth': 4, 'alrite': 4, 'track': 4, 'centre': 4, 'confirm': 4, 'needed': 4, 'warm': 4, 'ave': 4, 'rental': 4, '400': 4, 'ray': 4, 'del': 4, 'moment': 4, 'hell': 4, 'remain': 4, 'em': 4, 'local': 4, 'bb': 4, 'dogging': 4, 'however': 4, 'feb': 4, 'received': 4, 'somewhere': 4, 'miracle': 4, 'awaiting': 4, 'urgnt': 4, 'asap': 4, 'q': 4, 'ran': 4, 'merry': 4, 'share': 4, 'learn': 4, 'ended': 4, 'sunny': 4, 'checking': 4, 'bath': 4, 'sometimes': 4, '08000930705': 4, 'training': 4, 'seriously': 4, 'nw': 4, 'shuhui': 4, 'wishing': 4, 'bird': 4, 'sha': 4, 'key': 4, 'promise': 4, 'law': 4, 'cha': 4, 'january': 4, 'closed': 4, 'king': 4, 'freefone': 4, 'adult': 4, 'joke': 4, 'tea': 4, 'dropped': 4, 'worried': 4, 'itself': 4, 'gn': 4, 'myself': 4, 'urself': 4, 'cal': 4, 'power': 4, 'nimya': 4, 'truly': 4, 'swt': 4, 'muz': 4, 'internet': 4, 'paris': 4, 'savamob': 4, 'library': 4, 'near': 4, 'def': 4, 'green': 4, 'rd': 4, 'foot': 4, 'comp': 4, 'mumtaz': 4, '87131': 4, 'moral': 4, 'fill': 4, 'trust': 4, 'password': 4, 'picked': 4, 'ive': 4, '28': 4, 'thts': 4, 'police': 4, 'activate': 3, 'fyi': 3, 'shd': 3, 'add': 3, 'brothas': 3, 'further': 3, 'oz': 3, 'bun': 3, 'tncs': 3, 'ldew': 3, 'otherwise': 3, '114': 3, '14': 3, 'tcr': 3, 'w1': 3, '2morrow': 3, 'attend': 3, 'jordan': 3, 'vary': 3, 'personal': 3, '3030': 3, 'hee': 3, 'thanksgiving': 3, 'moby': 3, 'dictionary': 3, 'screen': 3, 'colleague': 3, '10am': 3, 'anytime': 3, 'derek': 3, 'ibiza': 3, 'ppm': 3, 'period': 3, 'site': 3, 'sup': 3, 'fifteen': 3, 'awake': 3, 'subpoly': 3, '81618': 3, 'group': 3, '50p': 3, 'vijay': 3, 'aunt': 3, 'mo': 3, 'confidence': 3, 'cream': 3, 'cinema': 3, 'scream': 3, 'outta': 3, 'intro': 3, 'putting': 3, 'behave': 3, 'moji': 3, 'arrive': 3, 'theatre': 3, 'vomit': 3, 'career': 3, 'followed': 3, '08712405020': 3, 'iq': 3, '4th': 3, '3rd': 3, 'nature': 3, 'thangam': 3, 'unique': 3, 'spending': 3, 'no1': 3, '87077': 3, '36504': 3, 'w45wq': 3, 'norm150p': 3, 'isnt': 3, '3510i': 3, 'along': 3, 'accordingly': 3, 'prince': 3, 'malaria': 3, 'completely': 3, 'mile': 3, 'bugis': 3, 'unsold': 3, 'accident': 3, 'brilliant': 3, 'wear': 3, 'loyalty': 3, 'auto': 3, 'magical': 3, 'issue': 3, 'sam': 3, 'penny': 3, 'announcement': 3, 'official': 3, 'daddy': 3, 'practice': 3, 'insurance': 3, 'guide': 3, 'lick': 3, 'cramp': 3, 'plenty': 3, 'water': 3, 'advice': 3, 'previous': 3, 'stomach': 3, 'fool': 3, 'throw': 3, 'railway': 3, 'yest': 3, 'usually': 3, 'body': 3, 'character': 3, 'stylish': 3, 'station': 3, 'starting': 3, 'yijue': 3, 'informed': 3, 'paying': 3, 'directly': 3, 'cbe': 3, 'city': 3, 'listening': 3, 'temple': 3, 'cold': 3, 'science': 3, 'la': 3, 'evng': 3, 'twice': 3, 'wats': 3, 'contacted': 3, 'askin': 3, 'men': 3, 'butt': 3, 'result': 3, 'childish': 3, 'irritating': 3, 'pizza': 3, 'aint': 3, 'remind': 3, 'fly': 3, 'replied': 3, 'inch': 3, 'kick': 3, 'sim': 3, 'subscriber': 3, 'bowl': 3, 'explain': 3, 'dearer': 3, 'dem': 3, 'boo': 3, 'hunny': 3, '2u': 3, 'arm': 3, 'cuz': 3, '09': 3, 'meal': 3, 'following': 3, '121': 3, 'surfing': 3, '88039': 3, 'skilgme': 3, 'age16': 3, '3g': 3, 'knowing': 3, 'effect': 3, 'gorgeous': 3, 'february': 3, 'during': 3, 'cancel': 3, 'sheet': 3, 'anybody': 3, 'asks': 3, 'aunty': 3, 'black': 3, 'serious': 3, 'sugar': 3, 'cabin': 3, 'wine': 3, 'bless': 3, 'inviting': 3, '62468': 3, 'title': 3, 'looked': 3, 'horrible': 3, 'vl': 3, 'oni': 3, 'allah': 3, 'booked': 3, 'lecture': 3, 'grand': 3, 'straight': 3, 'tlp': 3, 'process': 3, 'upto': 3, 'greeting': 3, 'blank': 3, 'mths': 3, '08001950382': 3, '83355': 3, 'aren': 3, 'flat': 3, 'earth': 3, 'rain': 3, 'appreciate': 3, 'costa': 3, 'sol': 3, 'sk38xh': 3, 'costå': 3, 'count': 3, 'takin': 3, 'weather': 3, 'cute': 3, 'themob': 3, 'drivin': 3, 'become': 3, 'txtauction': 3, 'laid': 3, 'mnth': 3, 'hanging': 3, 'tough': 3, 'role': 3, 'deal': 3, '900': 3, 'strong': 3, '09066362231': 3, 'beer': 3, 'xchat': 3, 'fb': 3, 'mmm': 3, 'tt': 3, 'halloween': 3, 'eerie': 3, 'asleep': 3, 'iåõm': 3, 'bay': 3, 'hostel': 3, 'hug': 3, 'returned': 3, 'polyphonic': 3, 'pig': 3, 'messenger': 3, 'lik': 3, 'burn': 3, 'afraid': 3, 'mother': 3, 'expect': 3, 'clean': 3, 'waste': 3, 'wer': 3, 'teach': 3, 'nap': 3, 'opportunity': 3, 'exactly': 3, 'wed': 3, '300': 3, 'maid': 3, 'murderer': 3, 'murdered': 3, 'matter': 3, 'past': 3, 'setting': 3, 'pix': 3, 'brings': 3, 'prepare': 3, '82242': 3, 'linerental': 3, '2optout': 3, 'toa': 3, 'payoh': 3, 'midnight': 3, 'discus': 3, 'transaction': 3, 'sorted': 3, 'rent': 3, 'stand': 3, 'vikky': 3, 'holding': 3, 'realize': 3, 'cannot': 3, 'stuck': 3, 'lie': 3, 'bishan': 3, 'random': 3, 'bye': 3, 'towards': 3, 'biz': 3, 'pilate': 3, 'london': 3, 'slowly': 3, 'basically': 3, 'ate': 3, 'obviously': 3, 'cell': 3, 'selection': 3, 'brought': 3, '80062': 3, 'fren': 3, 'il': 3, 'passed': 3, 'joking': 3, 'dsn': 3, '4mths': 3, 'mobilesdirect': 3, '08000938767': 3, 'or2stoptxt': 3, 'reality': 3, 'module': 3, 'leona': 3, '2004': 3, 'mite': 3, 'tkts': 3, 'hmv': 3, '85023': 3, 'campus': 3, 'ubi': 3, 'condition': 3, 'competition': 3, 'lab': 3, 'ansr': 3, 'tyrone': 3, 'deleted': 3, 'jesus': 3, 'letter': 3, 'avent': 3, 'amazing': 3, 'sh': 3, 'staff': 3, 'boost': 3, 'dear1': 3, 'best1': 3, 'clos1': 3, 'lvblefrnd': 3, 'jstfrnd': 3, 'cutefrnd': 3, 'lifpartnr': 3, 'belovd': 3, 'swtheart': 3, 'bstfrnd': 3, 'burger': 3, '33': 3, '3qxj9': 3, '08702840625': 3, '9ae': 3, 'hop': 3, 'cine': 3, 'interested': 3, 'fighting': 3, 'note': 3, 'maintain': 3, 'howz': 3, 'tirupur': 3, 'recently': 3, 'shortly': 3, 'monthly': 3, 'amount': 3, 'simply': 3, 'sore': 3, 'bold': 3, 'torch': 3, 'yetunde': 3, 'mid': 3, 'exciting': 3, 'tree': 3, 'bid': 3, 'nvm': 3, '08712300220': 3, 'tyler': 3, 'buzz': 3, 'paid': 3, 'august': 3, 'bin': 3, 'cw25wx': 3, 'vry': 3, 'blackberry': 3, 'marriage': 3, 'hook': 3, 'charity': 3, 'polys': 3, 'hoping': 3, 'shipping': 3, 'pg': 3, 'blah': 3, 'expecting': 3, 'doc': 3, 'imagine': 3, 'saved': 3, 'fan': 3, 'pout': 3, 'stomp': 3, 'sky': 3, 'gravity': 2, 'carefully': 2, 'cuddling': 2, 'standing': 2, 'patty': 2, 'interest': 2, 'generally': 2, 'smart': 2, 'regular': 2, 'prem': 2, 'beware': 2, 'apparently': 2, '61200': 2, 'itcould': 2, 'tariff': 2, '2stoptxt': 2, 'yummy': 2, 'tap': 2, 'spile': 2, 'seven': 2, 'broad': 2, 'canal': 2, 'atlanta': 2, 'shesil': 2, 'spoke': 2, 'item': 2, 'booty': 2, '10k': 2, '5k': 2, 'travel': 2, '09064011000': 2, 'cr01327bt': 2, 'fixedline': 2, 'everybody': 2, 'shut': 2, 'high': 2, 'cornwall': 2, 'neither': 2, 'studying': 2, 'hols': 2, 'anythin': 2, 'yuo': 2, 'ese': 2, 'tihs': 2, 'apologise': 2, 'cali': 2, 'bloke': 2, 'bat': 2, 'bell': 2, 'royal': 2, 'june': 2, 'five': 2, 'beauty': 2, 'hide': 2, 'thousand': 2, 'sk3': 2, '8wp': 2, 'living': 2, 'laughing': 2, 'winning': 2, 'ne': 2, 'minimum': 2, 'wet': 2, 'environment': 2, 'terrific': 2, 'program': 2, 'dick': 2, 'upload': 2, '08712460324': 2, 'faster': 2, 'attached': 2, 'hardcore': 2, 'porn': 2, 'helen': 2, 'develop': 2, 'ability': 2, 'uni': 2, 'taxi': 2, 'ing': 2, 'odi': 2, 'series': 2, 'moving': 2, 'brief': 2, 'history': 2, 'ton': 2, '0808': 2, '145': 2, '4742': 2, '9am': 2, '11pm': 2, 'rich': 2, 'ref': 2, 'shoppin': 2, 'partner': 2, 'horo': 2, 'seat': 2, '____': 2, 'ia': 2, '7th': 2, '6th': 2, '5th': 2, 'personality': 2, 'held': 2, 'shocking': 2, 'checked': 2, 'heading': 2, 'pull': 2, 'taylor': 2, 'careful': 2, 'txt82228': 2, 'schedule': 2, 'jiayin': 2, 'mcat': 2, 'rem': 2, 'delivered': 2, 'sing': 2, 'karaoke': 2, 'village': 2, 'handle': 2, 'loss': 2, 'temp': 2, 'med': 2, 'rice': 2, 'cake': 2, 'sar': 2, 'stock': 2, 'base': 2, 'responding': 2, 'diwali': 2, 'apps': 2, 'building': 2, 'coat': 2, 'hurry': 2, '0207': 2, 'july': 2, 'superior': 2, 'except': 2, 'waheed': 2, 'fathima': 2, 'weirdest': 2, 'celebrate': 2, 'dressed': 2, '25': 2, 'recd': 2, 'easier': 2, '542': 2, '0825': 2, 'threat': 2, 'fire': 2, 'journey': 2, 'terrible': 2, 'happens': 2, 'basic': 2, 'hppnss': 2, 'sorrow': 2, 'forevr': 2, 'goodfriend': 2, 'incident': 2, 'chain': 2, 'violence': 2, '08712402050': 2, '10ppm': 2, 'ag': 2, 'promo': 2, 'legal': 2, 'ptbo': 2, 'favorite': 2, 'cheat': 2, 'chinese': 2, 'smoking': 2, 'continue': 2, 'jada': 2, 'kusruthi': 2, 'spl': 2, 'matured': 2, 'panic': 2, 'vodka': 2, 'bar': 2, 'allowed': 2, 'nowadays': 2, 'causing': 2, 'outage': 2, 'church': 2, 'yunny': 2, 'realise': 2, 'push': 2, 'cooked': 2, 'social': 2, 'purity': 2, 'dollar': 2, 'buff': 2, 'heater': 2, 'discreet': 2, 'vip': 2, 'absolutly': 2, 'buyer': 2, '2morro': 2, 'befor': 2, 'activity': 2, 'relation': 2, 'luvs': 2, 'praying': 2, 'ful': 2, 'shy': 2, 'vava': 2, 'nalla': 2, 'wouldn': 2, 'costing': 2, 'dress': 2, 'respect': 2, 'didnåõt': 2, 'hallaq': 2, 'giving': 2, 'shoot': 2, 'opening': 2, '300p': 2, 'outstanding': 2, '30ish': 2, 'foreign': 2, 'stamp': 2, 'vewy': 2, 'bud': 2, 'piece': 2, 'priscilla': 2, 'payment': 2, 'forgets': 2, 'santa': 2, 'mental': 2, 'ure': 2, 'loveme': 2, 'xxxx': 2, 'practicing': 2, 'shot': 2, '0871': 2, '872': 2, 'box95qu': 2, 'wah': 2, 'yan': 2, 'jiu': 2, 'comedy': 2, 'desparate': 2, 'inside': 2, 'filling': 2, 'form': 2, 'dining': 2, 'asp': 2, 'field': 2, 'quickly': 2, 'administrator': 2, '60p': 2, '09094646899': 2, 'vu': 2, 'bcm1896wc1n3xx': 2, 'oil': 2, 'fave': 2, 'position': 2, 'videophones': 2, '09063458130': 2, 'videochat': 2, 'java': 2, 'dload': 2, 'polyph': 2, 'noline': 2, 'rentl': 2, 'amy': 2, 'ic': 2, 'texted': 2, 'monkey': 2, 'planning': 2, 'sticky': 2, 'weed': 2, 'sathya': 2, 'dint': 2, 'considering': 2, 'meanwhile': 2, 'warning': 2, 'playing': 2, 'piss': 2, 'walked': 2, 'secretly': 2, 'datebox1282essexcm61xn': 2, 'medicine': 2, '09058094599': 2, 'honey': 2, 'sweetheart': 2, 'bootydelious': 2, 'fee': 2, 'dhoni': 2, 'combine': 2, 'interview': 2, 'salam': 2, 'sharing': 2, 'sometime': 2, 'visitor': 2, 'surprised': 2, 'adore': 2, 'funeral': 2, 'touched': 2, 'csbcm4235wc1n3xx': 2, 'maxå': 2, 'understanding': 2, 'sura': 2, 'surely': 2, 'salary': 2, 'waking': 2, 'billion': 2, 'custom': 2, 'james': 2, 'gimme': 2, 'cross': 2, 'ntwk': 2, 'mtmsgrcvd18': 2, 'collected': 2, 'control': 2, 'revealed': 2, 'ipad': 2, '87121': 2, 'december': 2, '08002986906': 2, '09050090044': 2, 'toclaim': 2, 'pobox334': 2, 'stockport': 2, 'max10mins': 2, 'division': 2, 'released': 2, 'option': 2, 'hate': 2, 'bck': 2, 'alex': 2, 'mt': 2, 'rude': 2, 'slo': 2, 'diamond': 2, 'virgin': 2, '4fil': 2, 'master': 2, 'bf': 2, 'certainly': 2, 'premium': 2, 'pink': 2, 'wallpaper': 2, 'mad': 2, 'envelope': 2, 'housewife': 2, '0871750': 2, '77': 2, 'wearing': 2, 'shelf': 2, 'h': 2, 'juan': 2, '81151': 2, '4t': 2, 'location': 2, 'largest': 2, '69696': 2, 'ec2a': 2, '3lp': 2, '86888': 2, 'subscribe6gbp': 2, '3hrs': 2, 'txtstop': 2, 'google': 2, '2geva': 2, 'whom': 2, 'package': 2, 'erm': 2, 'telephone': 2, 'running': 2, 'managed': 2, 'sachin': 2, 'aka': 2, 'call09050000327': 2, 'rstm': 2, 'sw7': 2, 'detroit': 2, '2find': 2, 'ke': 2, 'machan': 2, 'slip': 2, 'lookin': 2, '07xxxxxxxxx': 2, 'explicit': 2, '02073162414': 2, 'contract': 2, 'callback': 2, 'kept': 2, 'sucker': 2, 'added': 2, 'spoon': 2, 'assume': 2, 'box97n7qp': 2, 'gist': 2, 'bec': 2, 'cust': 2, 'mega': 2, 'giv': 2, 'ain': 2, 'sleepy': 2, 'creepy': 2, 'eta': 2, 'taunton': 2, 'itåõs': 2, 'tight': 2, 'urn': 2, 'march': 2, 'cock': 2, 'hubby': 2, 'action': 2, 'space': 2, 'confused': 2, 'choice': 2, '08701417012150p': 2, 'fell': 2, 'denis': 2, 'size': 2, 'tablet': 2, 'enuff': 2, 'mb': 2, 'math': 2, '84128': 2, 'especially': 2, 'pie': 2, 'ebay': 2, 'båõday': 2, 'wud': 2, 'sweetie': 2, 'fix': 2, 'language': 2, 'iouri': 2, 'ryan': 2, 'art': 2, 'boring': 2, 'coffee': 2, 'wld': 2, 'slipper': 2, 'free2day': 2, 'george': 2, '89080': 2, 'saucy': 2, 'celeb': 2, 'pocketbabe': 2, '0870241182716': 2, 'kg': 2, 'fml': 2, 'six': 2, '87575': 2, 'hl': 2, 'blake': 2, 'sary': 2, 'plm': 2, 'simpler': 2, '09050001808': 2, 'm95': 2, 'valid12hrs': 2, 'ron': 2, 'swatch': 2, 'dare': 2, 'raj': 2, 'embarassed': 2, 'blind': 2, 'height': 2, 'plane': 2, 'idk': 2, '80488': 2, 'status': 2, 'guilty': 2, 'app': 2, 'spk': 2, 'toshiba': 2, 'name1': 2, 'name2': 2, 'mobno': 2, 'adam': 2, '07123456789': 2, 'pobox36504w45wq': 2, 'txtno': 2, 'cochin': 2, 'weird': 2, '83600': 2, 'indicate': 2, 'fish': 2, 'ar': 2, 'abi': 2, 'stayin': 2, 'ham': 2, 'alive': 2, 'thurs': 2, 'blu': 2, 'concert': 2, 'deliveredtomorrow': 2, 'argument': 2, 'mono': 2, 'ideal': 2, 'path': 2, 'front': 2, 'public': 2, 'govt': 2, 'instituitions': 2, 'iscoming': 2, 'pple': 2, 'among': 2, 'symbol': 2, 'tog': 2, 'mth': 2, 'havin': 2, 'upd8': 2, 'belly': 2, 'ding': 2, 'female': 2, 'roast': 2, 'willing': 2, 'settled': 2, 'grow': 2, 'calm': 2, 'up4': 2, 'cam': 2, 'hlp': 2, '08712317606': 2, 'msg150p': 2, '2rcv': 2, 'bet': 2, 'chasing': 2, 'director': 2, 'mac': 2, 'mouth': 2, 'england': 2, 'original': 2, '3gbp': 2, 'donate': 2, 'tsunami': 2, 'weigh': 2, 'breathe': 2, 'regret': 2, 'dislike': 2, 'appreciated': 2, 'error': 2, 'mahal': 2, 'msging': 2, 'widelive': 2, 'index': 2, 'wml': 2, 'kano': 2, 'gbp': 2, 'bleh': 2, 'showing': 2, 'cld': 2, 'prefer': 2, 'audrey': 2, 'capital': 2, 'responce': 2, 'happend': 2, 'total': 2, 'queen': 2, 'wedding': 2, 'er': 2, '26': 2, 'pongal': 2, 'none': 2, 'becomes': 2, 'follow': 2, 'picture': 2, 'wave': 2, 'poop': 2, 'cooky': 2, 'num': 2, 'university': 2, 'bc': 2, 'potential': 2, 'talent': 2, 'exhausted': 2, 'cuddle': 2, 'sender': 2, 'spoken': 2, 'pee': 2, 'ranjith': 2, '5min': 2, 'research': 2, 'avoiding': 2, 'superb': 2, 'faggy': 2, 'fo': 2, 'addie': 2, 'lido': 2, 'expressoffer': 2, 'lo': 2, 'tessy': 2, 'favor': 2, 'shijas': 2, 'ride': 2, 'occupy': 2, 'bahamas': 2, 'wc1n3xx': 2, 'goal': 2, 'arsenal': 2, 'henry': 2, 'liverpool': 2, 'score': 2, 'prof': 2, 'sem': 2, 'evry': 2, 'beyond': 2, 'sry': 2, '8th': 2, 'geeeee': 2, 'frens': 2, '08006344447': 2, '05': 2, '89545': 2, '087187262701': 2, '50gbp': 2, 'mtmsg18': 2, 'yeh': 2, 'euro2004': 2, '09058099801': 2, 'b4190604': 2, '7876150ppm': 2, 'pride': 2, 'elsewhere': 2, 'callin': 2, '08717898035': 2, 'difference': 2, 'soiree': 2, '21st': 2, 'roommate': 2, 'jan': 2, 'hasn': 2, 'hockey': 2, 'yun': 2, '65': 2, 'jogging': 2, 'morphine': 2, 'possible': 2, 'philosophy': 2, 'understood': 2, 'possession': 2, 'cry': 2, 'addicted': 2, 'cud': 2, 'thnk': 2, 'lyk': 2, 'wnt': 2, 'algarve': 2, 'accidentally': 2, 'petey': 2, 'bday': 2, 'remembered': 2, 'perfect': 2, 'death': 2, 'eatin': 2, 'meetin': 2, 'l8r': 2, 'gang': 2, 'hun': 2, 'dumb': 2, 'solved': 2, 'fa': 2, 'std': 2, 'textbuddy': 2, 'postcode': 2, 'gaytextbuddy': 2, '89693': 2, 'answering': 2, 'fever': 2, 'middle': 2, 'ttyl': 2, 'gee': 2, 'shahjahan': 2, 'killed': 2, 'common': 2, 'staying': 2, 'calicut': 2, 'commercial': 2, 'borrow': 2, 'k52': 2, 'sept': 2, 'flip': 2, 'garden': 2, 'bulb': 2, 'seed': 2, 'scotsman': 2, 'go2': 2, 'notxt': 2, 'refilled': 2, 'successfully': 2, 'inr': 2, 'keralacircle': 2, 'prepaid': 2, 'kr': 2, 'lux': 2, 'inclusive': 2, 'hip': 2, 'screaming': 2, 'upstairs': 2, 'mix': 2, 'acted': 2, 'insha': 2, 'meaning': 2, 'killing': 2, 'melle': 2, 'sentence': 2, 'concentrate': 2, 'affection': 2, 'flag': 2, 'optout': 2, 'ache': 2, 'teaching': 2, 'refused': 2, 'broke': 2, 'lounge': 2, 'cheer': 2, 'spider': 2, 'closer': 2, 'pin': 2, 'shock': 2, 'desire': 2, 'tscs087147403231winawk': 2, '50perwksub': 2, 'handed': 2, 'jokin': 2, '220': 2, 'cm2': 2, '6months': 2, 'topic': 2, 'raji': 2, 'favour': 2, 'sptv': 2, 'boye': 2, '125gift': 2, 'caroline': 2, 'favourite': 2, 'chillin': 2, 'value': 2, 'incredible': 2, 'blow': 2, 'o2fwd': 2, '18p': 2, 'lift': 2, 'celebration': 2, '85': 2, 'infernal': 2, 'affair': 2, 'networking': 2, 'foley': 2, '82050': 2, 'ignore': 2, 'loxahatchee': 2, 'burning': 2, 'jas': 2, 'painting': 2, 'edward': 2, 'membership': 2, 'kindly': 2, 'tortilla': 2, 'nearly': 2, 'tension': 2, 'sipix': 2, 'digital': 2, '09061221066': 2, 'fromm': 2, 'eastenders': 2, 'dot': 2, 'compare': 2, 'herself': 2, 'violet': 2, 'tulip': 2, 'lily': 2, '84025': 2, 'wkent': 2, '150p16': 2, 'rang': 2, 'pending': 2, 'steam': 2, 'dentist': 2, 'innocent': 2, 'cooking': 2, 'tiwary': 2, '': 2, 'str': 2, 'scrounge': 2, 'rush': 2, 'gona': 2, 'voda': 2, 'quoting': 2, 'standard': 2, 'rcvd': 2, 'goodo': 2, 'signing': 2, 'barely': 2, 'sn': 2, 'delhi': 2, 'drms': 2, 'dedicated': 2, 'dedicate': 2, 'valuable': 2, 'nic': 2, 'normally': 2, 'caught': 2, 'broken': 2, 'air': 2, 'url': 2, 'instantly': 2, 'abta': 2, '326': 2, 'morn': 2, 'literally': 2, 'jerry': 2, 'irritates': 2, 'fails': 2, 'express': 2, 'ta': 2, 'captain': 2, 'solve': 2, 'neck': 2, 'peace': 2, 'com1win150ppmx3age16': 2, 'pleased': 2, '165': 2, 'lyfu': 2, 'lyf': 2, 'ali': 2, 'meow': 2, 'easter': 2, 'workin': 2, 'wtf': 2, 'dave': 2, 'lag': 2, 'profit': 2, 'andros': 2, 'stress': 2, 'dorm': 2, 'window': 2, 'throat': 2, 'ben': 2, 'cme': 2, '2morow': 2, 'ordered': 2, 'netcollex': 2, '08700621170150p': 2, 'mostly': 2, 'constant': 2, 'skip': 2, '80086': 2, 'txttowin': 2, 'collecting': 2, 'filthy': 2, 'vth': 2, 'function': 2, 'event': 2, 'cared': 2, 'gender': 2, 'sum1': 2, 'thm': 2, 'cashbin': 2, 'pleasure': 2, 'lane': 2, 'castor': 2, 'raining': 2, 'wanting': 2, 'msgrcvdhg': 2, '18yrs': 2, 'di': 2, 'four': 2, 'garbage': 2, 'dark': 2, 'stone': 2, 'arcade': 2, 'maga': 2, 'low': 2, 'sunlight': 2, 'cat': 2, 'chosen': 2, 'exact': 2, 'infront': 2, 'ee': 2, '_': 2, 'airport': 2, 'jamster': 2, '910': 2, 'bloomberg': 2, 'dime': 2, 'swiss': 2, 'crore': 2, 'politician': 2, '945': 1, 'version': 1, 'ashwini': 1, 'hen': 1, 'gauge': 1, 'meg': 1, '4goten': 1, 'scammer': 1, 'apology': 1, 'bffs': 1, 'carly': 1, 'lip': 1, 'win150ppmx3age16': 1, 'ericson': 1, 'der': 1, 'luks': 1, 'modl': 1, 'prone': 1, 'atleast': 1, 'shakespeare': 1, 'va': 1, 'maneesha': 1, 'satisfied': 1, 'experience': 1, 'toll': 1, '7cfca1a': 1, '08712402779': 1, 'soo': 1, 'grasp': 1, 'alter': 1, 'keen': 1, 'ambrith': 1, 'madurai': 1, 'arun': 1, 'dha': 1, 'marrge': 1, 'remembr': 1, 'charles': 1, 'excited': 1, 'rebooting': 1, 'coughing': 1, 'abroad': 1, 'lonely': 1, 'xxsp': 1, 'visionsms': 1, 'stopcost': 1, '08712400603': 1, 'painful': 1, 'recognises': 1, 'hugging': 1, 'bruce': 1, 'fletcher': 1, '09058094507': 1, 'changing': 1, 'diaper': 1, 'owed': 1, 'aiyah': 1, 'entertain': 1, 'restock': 1, 'get4an18th': 1, 'fetching': 1, 'duchess': 1, '008704050406': 1, 'arrow': 1, 'sterm': 1, 'resolved': 1, 'fab': 1, 'restrict': 1, 'konw': 1, 'waht': 1, 'rael': 1, 'gving': 1, 'exmpel': 1, 'jsut': 1, 'evrey': 1, 'splleing': 1, 'wrnog': 1, 'sitll': 1, 'raed': 1, 'wihtuot': 1, 'ayn': 1, 'mitsake': 1, 'ashley': 1, 'invitation': 1, 'weddin': 1, 'thanks2': 1, 'vday': 1, 'parachute': 1, 'netflix': 1, 'inning': 1, 'jog': 1, 'cutest': 1, '08714712412': 1, 'chief': 1, '08002888812': 1, 'agent': 1, 'goody': 1, 'mat': 1, '87021': 1, 'n8': 1, '09066350750': 1, 'tooo': 1, 'wknd': 1, 'resuming': 1, 'reapply': 1, 'uworld': 1, 'qbank': 1, 'assessment': 1, 'bathroom': 1, 'slacking': 1, '08712101358': 1, 'bear': 1, 'nick': 1, 'tom': 1, '08718730666': 1, 'wining': 1, '946': 1, '69200': 1, '24': 1, 'chrgd': 1, '2exit': 1, '07808': 1, 'xxxxxx': 1, '08719899217': 1, '41685': 1, '07': 1, 'quiet': 1, 'beth': 1, 'charlie': 1, 'famous': 1, 'unconditionally': 1, 'losing': 1, 'temper': 1, 'wrking': 1, 'gauti': 1, 'sehwag': 1, 'ball': 1, 'spin': 1, 'ecstasy': 1, 'laready': 1, 'step': 1, 'trend': 1, 'pro': 1, 'con': 1, 'description': 1, 'nuclear': 1, 'fusion': 1, 'iter': 1, 'jet': 1, 'perumbavoor': 1, 'bare': 1, 'orh': 1, 'paypal': 1, 'voila': 1, 'pocket': 1, 'r836': 1, '09065069154': 1, 'ooooooh': 1, 'yoville': 1, 'nyc': 1, 'audiitions': 1, 'relocate': 1, 'flyng': 1, 'aries': 1, 'dealing': 1, '1hr': 1, 'vpod': 1, '81303': 1, 'lower': 1, 'popping': 1, 'ibuprofen': 1, 'corporation': 1, 'aiyar': 1, 'ajith': 1, 'prasad': 1, 'engagement': 1, 'fixd': 1, 'njan': 1, 'vilikkam': 1, 'sudn': 1, 'mylife': 1, 'management': 1, 'x29': 1, '09065989180': 1, '09066358152': 1, 'prompt': 1, 'text82228': 1, 'blanket': 1, 'sufficient': 1, 'thx': 1, 'theory': 1, 'misplaced': 1, 'roger': 1, '8000930705': 1, 'sake': 1, 'tallahassee': 1, 'vote': 1, 'hopeing': 1, 'gastroenteritis': 1, 'replace': 1, 'reduce': 1, 'limiting': 1, 'illness': 1, 'chinatown': 1, 'porridge': 1, 'claypot': 1, 'yam': 1, 'fishhead': 1, 'beehoon': 1, 'tok': 1, 'nydc': 1, 'tau': 1, 'piah': 1, 'impatient': 1, 'belligerent': 1, 'eldest': 1, 'a30': 1, 'divert': 1, 'wadebridge': 1, 'varaya': 1, 'elaya': 1, 'factory': 1, 'nitros': 1, 'musta': 1, 'overdid': 1, 'kanji': 1, 'upgrdcentre': 1, 'upgrade': 1, '153': 1, '9153': 1, '26th': 1, 'department': 1, 'ours': 1, 'conform': 1, 'such': 1, 'white': 1, 'oooooh': 1, 'elaborating': 1, 'safety': 1, 'aspect': 1, 'thirtyeight': 1, 'executive': 1, 'shifad': 1, 'raised': 1, 'complaint': 1, 'lit': 1, 'wkend': 1, 'huge': 1, 'marking': 1, '2waxsto': 1, 'deliver': 1, 'major': 1, 'mmmm': 1, 'belongs': 1, 'fated': 1, 'shoranur': 1, 'fuelled': 1, 'concern': 1, 'prior': 1, 'grief': 1, 'despite': 1, '3000': 1, 'gary': 1, 'split': 1, 'suggestion': 1, 'forgt': 1, 'oyster': 1, 'sashimi': 1, 'rumbling': 1, '09058095201': 1, 'matric': 1, 'nan': 1, 'sonathaya': 1, 'soladha': 1, 'accordin': 1, 'discussed': 1, 'beerage': 1, 'pickle': 1, 'taco': 1, '08712400200': 1, 'byatch': 1, 'whassup': 1, 'progress': 1, '0796xxxxxx': 1, 'prizeawaiting': 1, 'eight': 1, 'someday': 1, 'gek1510': 1, 'lasagna': 1, 'lindsay': 1, 'heron': 1, 'waliking': 1, 'thnx': 1, 'showroom': 1, 'shaping': 1, 'cps': 1, 'conserve': 1, 'puppy': 1, 'noise': 1, 'citylink': 1, 'repeat': 1, 'andrew': 1, 'ouch': 1, 'stayed': 1, 'computational': 1, 'salmon': 1, 'scraped': 1, 'barrel': 1, 'misfit': 1, 'idc': 1, 'weaseling': 1, 'drinkin': 1, 'okors': 1, 'cherish': 1, 'mojibiola': 1, '09061790126': 1, 'drivby': 1, '0quit': 1, 'edrunk': 1, 'iff': 1, 'pthis': 1, 'senrd': 1, 'dnot': 1, 'dancce': 1, 'drum': 1, 'basq': 1, 'ihave': 1, '2nhite': 1, 'ro': 1, 'xxxxxxx': 1, '09050000928': 1, 'pobox45w2tg150p': 1, 'shoul': 1, 'dub': 1, 'je': 1, 'z': 1, 'rubber': 1, 'bluray': 1, 'ummma': 1, 'mokka': 1, 'jacket': 1, 'multis': 1, 'degree': 1, 'grinder': 1, 'forfeit': 1, 'hang': 1, 'starving': 1, '83110': 1, 'operate': 1, 'passion': 1, '09099726481': 1, 'dena': 1, 'minmobsmorelkpobox177hp51fl': 1, 'surrender': 1, 'appy': 1, 'fizz': 1, 'contains': 1, 'denying': 1, 'speaking': 1, 'expression': 1, 'sentiment': 1, 'rowdy': 1, 'attitude': 1, 'attractive': 1, 'swan': 1, 'gumby': 1, 'cheese': 1, 'inform': 1, 'offering': 1, 'panty': 1, 'disagreeable': 1, 'karnan': 1, '6pm': 1, 'costume': 1, 'falling': 1, 'force': 1, 'smeone': 1, 'complaining': 1, 'jolly': 1, 'stretch': 1, 'gentleman': 1, 'dignity': 1, 'havenåõt': 1, 'intend': 1, 'iwas': 1, 'marine': 1, 'itried2tell': 1, 'urmom': 1, 'careabout': 1, 'jolt': 1, 'screamed': 1, 'owned': 1, 'possessive': 1, 'passionate': 1, 'avatar': 1, '3d': 1, 'imp': 1, 'hittng': 1, 'reflex': 1, 'prevent': 1, 'dehydration': 1, 'fluid': 1, 'donno': 1, 'scorable': 1, 'epsilon': 1, 'spiffing': 1, 'workage': 1, 'upcharge': 1, 'predicting': 1, 'accumulation': 1, 'maangalyam': 1, 'alaipayuthe': 1, 'splashmobile': 1, 'subscrition': 1, '087123002209am': 1, 'several': 1, 'invoice': 1, 'three': 1, 'headstart': 1, 'desperate': 1, 'rummer': 1, 'grr': 1, 'prescription': 1, 'pharmacy': 1, 'lubly': 1, '88600': 1, 'exp': 1, '30apr': 1, '169': 1, '6031': 1, '9pm': 1, 'watched': 1, 'sux': 1, 'snake': 1, 'raiden': 1, 'usc': 1, 'portal': 1, 'easily': 1, '09058094583': 1, 'testing': 1, 'sayy': 1, '09111032124': 1, 'pobox12n146tf150p': 1, 'sao': 1, 'pandy': 1, 'enjoyin': 1, 'yourjob': 1, 'iåõllspeak': 1, 'soonlots': 1, '07808726822': 1, '9758': 1, 'learned': 1, 'fake': 1, 'experiencehttp': 1, 'vouch4me': 1, 'etlp': 1, 'massage': 1, 'compass': 1, 'soul': 1, 'loose': 1, 'gnun': 1, 'way2sms': 1, 'tscs08714740323': 1, '1winawk': 1, '50perweeksub': 1, 'needa': 1, 'intelligent': 1, 'teasing': 1, 'surya': 1, 'pokkiri': 1, 'mary': 1, 'jane': 1, 'flirting': 1, 'paperwork': 1, 'nervous': 1, 'fired': 1, '448712404000': 1, '08712404000': 1, 'web': 1, 'asjesus': 1, 'wrote': 1, 'brighten': 1, 'asshole': 1, 'heehee': 1, 'gopalettan': 1, 'participate': 1, 'admin': 1, 'enjoyed': 1, '61610': 1, '08712400602450p': 1, 'provided': 1, 'tones2you': 1, 'ûówell': 1, 'barring': 1, 'sudden': 1, 'influx': 1, 'april': 1, 'hustle': 1, 'forth': 1, 'audition': 1, 'season': 1, 'moved': 1, 'harlem': 1, 'doggy': 1, 'cmon': 1, 'buffet': 1, 'alcohol': 1, 'situation': 1, 'darren': 1, 'cutting': 1, 'suite': 1, 'xavier': 1, 'samantha': 1, 'guitar': 1, 'impress': 1, 'doug': 1, 'realizes': 1, 'casualty': 1, 'stuff42moro': 1, 'includes': 1, 'shhhhh': 1, '083': 1, '6089': 1, 'backwards': 1, 'hire': 1, 'hitman': 1, 'gran': 1, 'onlyfound': 1, 'afew': 1, 'cusoon': 1, 'honi': 1, 'sapna': 1, 'manege': 1, 'hogidhe': 1, 'chinnu': 1, 'swalpa': 1, 'agidhane': 1, 'epi': 1, 'doesnåõt': 1, '09065394973': 1, 'anti': 1, 'plum': 1, 'smack': 1, 'oi': 1, 'printer': 1, 'groovy': 1, 'groovying': 1, '32': 1, 'hlday': 1, 'camp': 1, 'amrca': 1, 'serena': 1, 'hmph': 1, 'baller': 1, 'aathi': 1, 'sometme': 1, 'converted': 1, 'sonyericsson': 1, '4qf2': 1, 'lambu': 1, 'ji': 1, 'batchlor': 1, 'confirmed': 1, 'spreadsheet': 1, 'whose': 1, 'determine': 1, 'entire': 1, 'wahleykkum': 1, 'grace': 1, 'tayseer': 1, 'tissco': 1, 'inshah': 1, 'nationwide': 1, 'newport': 1, 'lodging': 1, 'mumhas': 1, 'beendropping': 1, 'theplace': 1, 'adress': 1, 'prix': 1, 'mission': 1, 'arabian': 1, 'steed': 1, 'mmmmmm': 1, 'although': 1, 'baig': 1, 'completing': 1, 'stoner': 1, '1000call': 1, '09071512432': 1, '300603t': 1, 'callcost150ppmmobilesvary': 1, 'hcl': 1, 'requires': 1, 'fresher': 1, 'suman': 1, 'telephonic': 1, 'indyarocks': 1, 'lifeis': 1, 'daywith': 1, 'somewheresomeone': 1, 'tosend': 1, 'earn': 1, 'pouch': 1, 'haul': 1, 'officer': 1, 'cann': 1, 'asa': 1, '0871277810710p': 1, 'farting': 1, 'salt': 1, 'rub': 1, 'wound': 1, 'channel': 1, '674': 1, 'payed': 1, 'suganya': 1, 'compliment': 1, 'proze': 1, 'norcorp': 1, 'suck': 1, 'dough': 1, '09058091854': 1, 'box385': 1, 'm6': 1, '6wu': 1, 'agree': 1, 'macho': 1, 'perhaps': 1, 'identification': 1, 'prestige': 1, 'alot': 1, 'eurodisinc': 1, 'trav': 1, 'aco': 1, 'entry41': 1, 'morefrmmob': 1, 'shracomorsglsuplt': 1, 'ls1': 1, '3aj': 1, 'stability': 1, 'tranquility': 1, 'vibrant': 1, 'colourful': 1, '7ish': 1, 'tallent': 1, 'wasting': 1, 'vco': 1, 'cloud': 1, 'river': 1, 'sacrifice': 1, 'audrie': 1, 'lousy': 1, 'autocorrect': 1, 'multiply': 1, 'independently': 1, 'showed': 1, 'cosign': 1, 'juliana': 1, 'stu': 1, 'truble': 1, 'evone': 1, 'av': 1, 'dan': 1, 'unconvinced': 1, 'elaborate': 1, 'willpower': 1, '07801543489': 1, 'llc': 1, 'ny': 1, 'usa': 1, 'msgrcvd18': 1, 'linear': 1, 'algebra': 1, 'dying': 1, 'vitamin': 1, 'nasty': 1, 'filthyguys': 1, '4msgs': 1, 'wtc': 1, 'weiyi': 1, 'shanil': 1, 'exchanged': 1, 'uncut': 1, 'dino': 1, 'sexual': 1, 'theirs': 1, '69911': 1, 'perspective': 1, 'panther': 1, 'sugababes': 1, 'zebra': 1, 'animation': 1, 'badass': 1, 'hoody': 1, 'maggi': 1, 'mee': 1, 'textin': 1, '0871277810810': 1, 'lay': 1, 'pant': 1, 'madam': 1, 'slob': 1, 'complexity': 1, 'freely': 1, 'tax': 1, 'outrageous': 1, 'auntie': 1, 'huai': 1, 'nigh': 1, '07734396839': 1, 'ibh': 1, 'nokia6600': 1, 'jaya': 1, 'mising': 1, 'survey': 1, '80160': 1, 'txt43': 1, 'europe': 1, 'scenario': 1, 'anyones': 1, 'qet': 1, 'yupz': 1, 'slot': 1, 'satanic': 1, 'imposter': 1, 'destiny': 1, 'teresa': 1, 'dec': 1, 'thot': 1, 'ld': 1, 'bam': 1, 'aid': 1, 'usmle': 1, 'sickness': 1, 'calculation': 1, 'unit': 1, 'expensive': 1, 'accent': 1, '4years': 1, 'dental': 1, 'nmde': 1, 'woodland': 1, 'avenue': 1, 'parish': 1, 'magazine': 1, 'oxygen': 1, 'resort': 1, 'roller': 1, 'bhaji': 1, 'cricketer': 1, 'young': 1, 'checkup': 1, 'pap': 1, 'smear': 1, 'whore': 1, 'unbelievable': 1, 'shant': 1, 'jia': 1, 'qi': 1, 'suddenly': 1, '08452810071': 1, 'webadres': 1, 'geting': 1, '09061701851': 1, 'k61': 1, '12hours': 1, 'mnths': 1, 'barred': 1, 'twat': 1, 'dungerees': 1, 'decking': 1, 'punch': 1, 'the4th': 1, 'october': 1, 'stubborn': 1, 'salad': 1, 'desert': 1, 'macha': 1, 'upset': 1, 'mindset': 1, '077xxx': 1, '09066362206': 1, 'tomorro': 1, '3mobile': 1, 'chatlines': 1, 'inclu': 1, 'servs': 1, 'sed': 1, 'l8er': 1, 'bailiff': 1, 'answerin': 1, 'reasonable': 1, 'okday': 1, 'muhommad': 1, 'lead': 1, 'deserve': 1, 'lined': 1, 'heat': 1, 'applyed': 1, 'eachother': 1, 'popped': 1, 'tonght': 1, 'sinco': 1, 'payee': 1, 'icicibank': 1, 'fraud': 1, 'disclose': 1, 'voicemail': 1, '08719181503': 1, 'noncomittal': 1, 'sts': 1, 'xuhui': 1, '8am': 1, 'satisfy': 1, '89938': 1, 'string': 1, 'rec': 1, '50ea': 1, 'otbox': 1, '731': 1, 'la1': 1, '7ws': 1, 'playin': 1, 'poker': 1, 'hyde': 1, 'mel': 1, 'opps': 1, 'lingo': 1, 'knackered': 1, 'dreading': 1, 'thou': 1, 'mina': 1, 'elephant': 1, 'shove': 1, 'um': 1, 'orno': 1, 'jeremiah': 1, '930': 1, 'pod': 1, 'eek': 1, 'american': 1, 'singing': 1, '09066358361': 1, 'y87': 1, 'virtual': 1, 'weightloss': 1, 'webpage': 1, 'fffff': 1, 'kadeem': 1, 'spelling': 1, 'diff': 1, '087018728737': 1, 'toppoly': 1, 'tune': 1, 'pole': 1, 'guild': 1, 'bristol': 1, 'thinked': 1, 'clover': 1, 'wylie': 1, 'impressively': 1, 'sensible': 1, 'slightly': 1, 'disastrous': 1, 'fav': 1, 'spell': 1, '2yrs': 1, 'gained': 1, 'pressure': 1, 'limit': 1, 'reckon': 1, 'transport': 1, '07732584351': 1, 'rodger': 1, 'åè10': 1, 'evey': 1, 'electricity': 1, 'womdarfull': 1, 'actor': 1, 'inconvenient': 1, 'csh11': 1, '6days': 1, 'tsandcs': 1, 'kama': 1, 'sutra': 1, 'hme': 1, 'northampton': 1, 'adewale': 1, 'egbon': 1, 'explicitly': 1, 'nora': 1, 'goodmate': 1, 'asusual': 1, 'cheered': 1, 'franyxxxxx': 1, 'b4u': 1, '27': 1, 'marsms': 1, 'b4utele': 1, '08717168528': 1, 'approaching': 1, 'sankranti': 1, 'republic': 1, 'shivratri': 1, 'ugadi': 1, 'independence': 1, 'teacher': 1, 'childrens': 1, 'ganesh': 1, 'festival': 1, 'dasara': 1, 'rememberi': 1, 'nicky': 1, 'intention': 1, 'waaaat': 1, 'lololo': 1, 'clark': 1, 'utter': 1, 'armand': 1, 'rodds1': 1, 'aberdeen': 1, 'united': 1, 'kingdom': 1, 'img': 1, 'icmb3cktz8r7': 1, 'breeze': 1, 'bright': 1, 'fresh': 1, 'twittering': 1, 'cedar': 1, 'reminder': 1, 'aeronautics': 1, 'professor': 1, 'calld': 1, 'aeroplane': 1, 'aftr': 1, 'dey': 1, 'hurried': 1, 'parking': 1, 'bawling': 1, 'failure': 1, 'failing': 1, 'frequently': 1, 'baaaaabe': 1, 'youuuuu': 1, 'possibility': 1, 'spun': 1, 'wrld': 1, 'gota': 1, '0a': 1, 'allow': 1, 'responsible': 1, 'supplier': 1, 'reunion': 1, 'bcum': 1, 'spanish': 1, '09050000332': 1, 'portege': 1, 'm100': 1, '0789xxxxxxx': 1, 'pocay': 1, 'wocay': 1, '4eva': 1, '2morrowxxxx': 1, 'brison': 1, 'cherthala': 1, 'bfore': 1, 'tmorow': 1, 'engaged': 1, 'teju': 1, 'recycling': 1, 'earning': 1, 'freezing': 1, 'hero': 1, 'apt': 1, 'kerala': 1, 'sang': 1, 'uptown': 1, '80': 1, 'compensation': 1, 'memory': 1, 'spirit': 1, 'ph': 1, 'praveesh': 1, 'delicious': 1, 'cleared': 1, 'birla': 1, 'soft': 1, 'chechi': 1, 'meive': 1, 'hardly': 1, 'gotany': 1, 'rugby': 1, 'november': 1, '09061104276': 1, 'smsco': 1, '75max': 1, 'gloucesterroad': 1, 'uup': 1, 'tuition': 1, '330': 1, 'hm': 1, '1120': 1, '1205': 1, '44': 1, '7732584351': 1, 'thin': 1, 'fed': 1, 'himso': 1, '2go': 1, 'boltblue': 1, 'poly3': 1, 'slide': 1, 'jamz': 1, 'toxic': 1, 'appear': 1, 'borderline': 1, '74355': 1, 'tnc': 1, 'sum': 1, 'lucyxx': 1, 'tp': 1, 'correctly': 1, 'affidavit': 1, 'twiggs': 1, 'courtroom': 1, 'becz': 1, 'undrstndng': 1, 'avoids': 1, 'suffer': 1, 'whn': 1, 'thread': 1, 'erutupalam': 1, 'thandiyachu': 1, 'newest': 1, 'ûïharry': 1, 'potter': 1, 'phoenix': 1, 'harry': 1, 'reader': 1, 'dorothy': 1, 'kiefer': 1, 'granite': 1, 'explosive': 1, 'nasdaq': 1, 'cdgt': 1, 'goin2bed': 1, 'only1more': 1, 'maaaan': 1, 'resizing': 1, 'complacent': 1, 'greatness': 1, '2stoptx': 1, 'fassyole': 1, 'blacko': 1, 'londn': 1, 'poyyarikatur': 1, 'kolathupalayam': 1, 'unjalur': 1, 'erode': 1, 'juicy': 1, 'theoretically': 1, 'ripped': 1, 'clubmoby': 1, '08717509990': 1, 'downloads': 1, 'throwing': 1, 'deciding': 1, 'africa': 1, 'avin': 1, 'silver': 1, 'infact': 1, 'iåõd': 1, 'walmart': 1, 'mouse': 1, 'desk': 1, 'aptitude': 1, 'shsex': 1, 'netun': 1, 'fgkslpopw': 1, 'fgkslpo': 1, '09090204448': 1, 'minded': 1, 'aå': 1, 'minapn': 1, 'ls278bb': 1, 'ignoring': 1, 'ppl': 1, 'pleasured': 1, 'ey': 1, 'downon': 1, 'theacusations': 1, 'itxt': 1, 'iwana': 1, 'wotu': 1, 'thew': 1, 'haventcn': 1, 'nething': 1, 'recharged': 1, 'w8in': 1, '4utxt': 1, '12mths': 1, '2price': 1, '100txt': 1, 'tooth': 1, 'd3wv': 1, 'sends': 1, 'diet': 1, 'everyday': 1, 'fatty': 1, 'appeal': 1, 'thriller': 1, 'lion': 1, 'lionm': 1, 'lionp': 1, 'south': 1, 'african': 1, 'soil': 1, 'unicef': 1, 'asian': 1, 'disaster': 1, 'fund': 1, '864233': 1, 'wewa': 1, '130': 1, 'iriver': 1, '255': 1, '128': 1, 'contribute': 1, 'greatly': 1, 'genius': 1, 'bottom': 1, 'chart': 1, '4882': 1, '09064019014': 1, 'importantly': 1, 'neft': 1, 'credited': 1, 'beneficiary': 1, 'diesel': 1, 'conveying': 1, 'wavering': 1, 'coping': 1, 'individual': 1, 'heal': 1, 'flying': 1, 'ûò': 1, 'incomm': 1, 'haunt': 1, 'promoting': 1, 'hex': 1, 'frying': 1, 'bigger': 1, 'younger': 1, 'inconsiderate': 1, 'nag': 1, 'recession': 1, 'hence': 1, 'tomarrow': 1, 'court': 1, 'forwarding': 1, 'proof': 1, '820554ad0a1705572711': 1, 'trueåác': 1, 'ringtoneåá': 1, 'lolnice': 1, 'opposite': 1, 'repair': 1, 'ovulation': 1, 'followin': 1, '850': 1, '650': 1, 'nike': 1, 'coimbatore': 1, 'olave': 1, 'mandara': 1, 'trishul': 1, 'attending': 1, 'financial': 1, 't91': 1, '09057039994': 1, '09061702893': 1, 'stuffed': 1, 'writhing': 1, '2mro': 1, 'nosh': 1, 'faggot': 1, 'strike': 1, 'antelope': 1, 'toplay': 1, 'fieldof': 1, 'selfindependence': 1, 'contention': 1, 'disappointment': 1, 'craziest': 1, 'biola': 1, 'tee': 1, 'cheery': 1, 'handsome': 1, 'finding': 1, 'mummy': 1, 'restaurant': 1, '15': 1, '54': 1, 'resubmit': 1, 'expiry': 1, 'x2': 1, 'bridgwater': 1, 'banter': 1, 'nanny': 1, 'stereo': 1, 'mi': 1, 'unknown': 1, 'album': 1, 'visa': 1, 'gucci': 1, 'canåõt': 1, 'isnåõt': 1, 'shite': 1, 'kip': 1, 'doubt': 1, 'sleepwell': 1, 'treatin': 1, 'treacle': 1, '2006': 1, 'fifa': 1, '87239': 1, 'annoncement': 1, '07046744435': 1, 'habit': 1, 'limited': 1, 'sez': 1, 'arab': 1, 'evry1': 1, 'eshxxxxxxxxxxx': 1, 'misbehaved': 1, 'slap': 1, 'werethe': 1, 'monkeespeople': 1, 'monkeyaround': 1, 'howdy': 1, 'recognise': 1, 'tim': 1, 'bollox': 1, 'tol': 1, 'ummifying': 1, 'durban': 1, '85222': 1, 'winnersclub': 1, '84': 1, 'm26': 1, '3uz': 1, 'gbp1': 1, 'fink': 1, '09099726553': 1, 'promised': 1, 'carlie': 1, 'callså': 1, 'minmobsmore': 1, 'lkpobox177hp51fl': 1, 'repent': 1, 'bead': 1, 'basket': 1, 'turning': 1, 'alto18': 1, '44345': 1, 'jos': 1, 'gpu': 1, 'makin': 1, 'weirdy': 1, 'brownie': 1, 'youphone': 1, 'athome': 1, 'youwanna': 1, 'southern': 1, 'california': 1, 'didntgive': 1, 'bellearlier': 1, 'sporadically': 1, 'garment': 1, 'ned': 1, 'horse': 1, 'racing': 1, 'chicken': 1, 'breather': 1, 'granted': 1, 'fulfil': 1, 'blessing': 1, 'timi': 1, 'clearing': 1, 'ibhltd': 1, 'ldnw15h': 1, 'dogg': 1, 'nimbomsons': 1, 'drpd': 1, 'deeraj': 1, 'deepak': 1, 'plural': 1, 'noun': 1, 'sweater': 1, 'mango': 1, 'smoked': 1, 'shell': 1, 'unconsciously': 1, 'unhappy': 1, 'lingerie': 1, 'bridal': 1, 'petticoatdreams': 1, 'weddingfriend': 1, 'acknowledgement': 1, 'astoundingly': 1, 'tactless': 1, 'demand': 1, 'oath': 1, 'tues': 1, 'watchin': 1, 'mall': 1, 'kaila': 1, 'romcapspam': 1, 'presence': 1, 'outgoing': 1, 'bringing': 1, 'breath': 1, 'hypertension': 1, 'tahan': 1, 'anot': 1, 'urination': 1, 'memorable': 1, 'slaaaaave': 1, 'summon': 1, 'nver': 1, 'somtimes': 1, 'ela': 1, 'swimsuit': 1, 'newspaper': 1, 'callfreefone': 1, '08081560665': 1, 'cruise': 1, 'ofå': 1, '07786200117': 1, '3650': 1, '09066382422': 1, '3mins': 1, '300603': 1, 'bcm4284': 1, 'smashed': 1, 'driver': 1, 'dent': 1, 'yard': 1, 'bergkamp': 1, 'margin': 1, '78': 1, 'enna': 1, 'kalaachutaarama': 1, 'emotion': 1, 'prayrs': 1, 'othrwise': 1, 'deduct': 1, 'jean': 1, 'prometazine': 1, 'syrup': 1, '5mls': 1, 'feed': 1, 'mushy': 1, 'embarrassed': 1, 'fireplace': 1, 'icon': 1, 'nosy': 1, 'reacting': 1, 'freaked': 1, '08718738002': 1, '48922': 1, 'snickering': 1, 'chord': 1, 'mention': 1, 'served': 1, '4the': 1, 'wee': 1, 'culture': 1, '69101': 1, 'rtf': 1, 'sphosting': 1, 'asthma': 1, 'attack': 1, 'korean': 1, '1b6a5ecef91ff9': 1, '37819': 1, 'true18': 1, '0430': 1, 'jul': 1, 'everyso': 1, 'often': 1, 'panicks': 1, 'bein': 1, 'kane': 1, 'shud': 1, 'spacebucks': 1, 'honestly': 1, 'promptly': 1, 'burnt': 1, 'meat': 1, 'supreme': 1, 'sparkling': 1, '45': 1, '0121': 1, '2025050': 1, 'shortbreaks': 1, 'org': 1, 'grownup': 1, 'messy': 1, 'mandan': 1, 'genuine': 1, '100percent': 1, 'bruv': 1, 'reverse': 1, 'cheating': 1, 'mathematics': 1, 'ignorant': 1, 'versus': 1, '80878': 1, '08715705022': 1, '1x150p': 1, 'unconscious': 1, 'abnormally': 1, '09066364349': 1, 'box434sk38wp150ppm18': 1, 'attracts': 1, 'shanghai': 1, 'cya': 1, 'aah': 1, 'dogbreath': 1, 'sounding': 1, 'reception': 1, 'election': 1, '67441233': 1, 'irene': 1, 'ere': 1, 'bus8': 1, '22': 1, '61': 1, '66': 1, '382': 1, 'cres': 1, 'tech': 1, '6ph': 1, '5wkg': 1, 'ì': 1, 'billy': 1, 'file': 1, 'gokila': 1, '08717895698': 1, 'mobstorequiz10ppm': 1, 'emigrated': 1, 'hopeful': 1, 'cliff': 1, 'tip': 1, 'unnecessarily': 1, 'hostile': 1, 'unintentionally': 1, 'bhaskar': 1, 'entirely': 1, '087104711148': 1, 'property': 1, 'lastest': 1, 'stereophonics': 1, 'marley': 1, 'dizzee': 1, 'racal': 1, 'libertine': 1, 'stroke': 1, 'nookii': 1, 'click': 1, 'bookmark': 1, '82468': 1, 'packing': 1, 'offline': 1, 'anjola': 1, 'unclaimed': 1, '09066368327': 1, 'closingdate04': 1, 'claimcode': 1, 'm39m51': 1, '50pmmorefrommobile2bremoved': 1, 'mobypobox734ls27yf': 1, 'ahold': 1, 'imprtant': 1, 'tomorw': 1, '08712402902': 1, 'gibbs': 1, 'mike': 1, 'hussey': 1, 'atten': 1, 'inperialmusic': 1, 'listening2the': 1, 'byåóleafcutter': 1, 'johnåó': 1, 'insect': 1, 'molested': 1, 'plumbing': 1, 'remixed': 1, 'evil': 1, 'acid': 1, 'goggles': 1, 'mc': 1, '30pm': 1, 'purple': 1, 'yelow': 1, 'jealous': 1, 'brown': 1, 'color': 1, 'length': 1, 'shorter': 1, 'fringe': 1, 'distract': 1, 'resend': 1, 'nearer': 1, 'srsly': 1, 'yi': 1, 'yetty': 1, 'christ': 1, 'china': 1, 'noisy': 1, 'noiåõm': 1, 'nit': 1, 'aiya': 1, 'stitch': 1, 'trouser': 1, 'speed': 1, 'sumfing': 1, 'accidant': 1, 'tookplace': 1, 'ghodbandar': 1, 'traffic': 1, 'slovely': 1, 'necessary': 1, 'wasted': 1, 'applebees': 1, 'thinkthis': 1, 'dangerous': 1, 'nooooooo': 1, 'cable': 1, 'honeymoon': 1, 'outfit': 1, 'mountain': 1, 'deer': 1, 'flatter': 1, 'pint': 1, 'carlin': 1, 'dismissial': 1, 'perf': 1, 'wrongly': 1, 'fuckin': 1, 'åð': 1, 'lil': 1, 'beverage': 1, 'pist': 1, 'adventure': 1, 'anna': 1, 'nagar': 1, 'jap': 1, 'lou': 1, 'lancaster': 1, 'neway': 1, 'couldnåõt': 1, 'tlk': 1, 'scratching': 1, 'mystery': 1, 'opened': 1, 'batch': 1, 'apologize': 1, 'admit': 1, 'nutter': 1, 'cutter': 1, 'ctter': 1, 'cttergg': 1, 'cttargg': 1, 'ctargg': 1, 'ctagg': 1, 'ie': 1, 'burden': 1, '2005': 1, '08452810075over18': 1, 'lara': 1, 'chachi': 1, 'pl': 1, 'tiz': 1, 'kanagu': 1, 'famamus': 1, '08715500022': 1, 'rpl': 1, 'cnl': 1, 'olympics': 1, 'purse': 1, 'crashed': 1, 'cuddled': 1, 'ba': 1, 'dao': 1, 'realized': 1, 'accomodations': 1, 'cave': 1, 'offered': 1, 'embarassing': 1, 'vomitin': 1, 'aust': 1, 'bk': 1, 'taj': 1, 'lesser': 1, 'known': 1, 'husband': 1, 'arises': 1, 'hari': 1, 'yoyyooo': 1, 'permission': 1, 'usb': 1, 'flash': 1, 'cried': 1, 'uhhhhrmm': 1, 'youre': 1, 'smokin': 1, 'youåõre': 1, 'jess': 1, 'chic': 1, 'declare': 1, 'knocking': 1, 'chad': 1, 'gymnastics': 1, 'christian': 1, 'glo': 1, 'above': 1, 'hitter': 1, '08718730555': 1, 'beside': 1, 'keeping': 1, 'successful': 1, 'wasnåõt': 1, 'spouse': 1, 'pmt': 1, 'sumthin': 1, '4give': 1, 'shldxxxx': 1, '09064017295': 1, 'prolly': 1, 'footy': 1, 'stadium': 1, 'large': 1, 'coca': 1, 'cola': 1, 'adi': 1, 'entey': 1, 'nattil': 1, 'kittum': 1, 'lanre': 1, 'fakeye': 1, 'eckankar': 1, 'giggle': 1, 'possibly': 1, 'person2die': 1, 'nvq': 1, 'breaking': 1, 'cstore': 1, 'matthew': 1, '09063440451': 1, 'ppm150': 1, 'box334': 1, 'gotto': 1, '220cm2': 1, 'dudette': 1, 'nottingham': 1, '63miles': 1, '40mph': 1, 'hahaha': 1, 'brain': 1, 'drastic': 1, 'jazz': 1, 'zoom': 1, '0845': 1, '2814032': 1, '3xå': 1, '150pw': 1, 'eå': 1, 'nd': 1, 'hep': 1, 'immunisation': 1, 'kidz': 1, 'naked': 1, 'rhode': 1, 'island': 1, 'wherever': 1, 'bong': 1, 'hectic': 1, 'swoop': 1, 'aldrine': 1, 'rtm': 1, 'err': 1, '8pm': 1, 'panren': 1, 'paru': 1, 'gentle': 1, 'honeybee': 1, 'sweetest': 1, 'laughed': 1, 'havnt': 1, 'crack': 1, 'gm': 1, 'abj': 1, 'prediction': 1, 'chill': 1, '6hrs': 1, 'surgical': 1, 'emergency': 1, 'unfolds': 1, 'html': 1, 'gbp4': 1, 'mfl': 1, 'ew': 1, 'abbey': 1, 'bitching': 1, 'stalking': 1, 'funk': 1, 'tones2u': 1, 'fightng': 1, 'dificult': 1, 'enjoying': 1, 'nokia6650': 1, 'ctxt': 1, 'mtmsg': 1, 'aslamalaikkum': 1, 'tohar': 1, 'beeen': 1, 'muht': 1, 'albi': 1, 'mufti': 1, 'mahfuuz': 1, '09061749602': 1, '528': 1, 'hp20': 1, '1yf': 1, 'argh': 1, 'spotty': 1, 'province': 1, 'sterling': 1, 'ct': 1, 'employee': 1, 'oru': 1, 'minnaminunginte': 1, 'nurungu': 1, 'vettam': 1, 'educational': 1, 'remembrs': 1, 'everytime': 1, '40': 1, 'tattoo': 1, 'bcums': 1, 'kettoda': 1, 'manda': 1, 'icic': 1, 'robs': 1, 'avenge': 1, '1stchoice': 1, '08707808226': 1, 'resubbing': 1, 'approve': 1, 'panalam': 1, 'postponed': 1, 'stocked': 1, 'mila': 1, 'age23': 1, 'blonde': 1, 'mtalk': 1, '69866': 1, '30pp': 1, '5free': 1, 'increment': 1, 'help08718728876': 1, 'recorder': 1, 'canname': 1, 'australia': 1, 'mquiz': 1, 'yer': 1, '84199': 1, 'eng': 1, 'box39822': 1, 'w111wx': 1, 'increase': 1, 'desparately': 1, 'twelve': 1, 'purpose': 1, '75': 1, 'homeowner': 1, 'tenant': 1, 'previously': 1, '1956669': 1, 'sarcastic': 1, 'tellmiss': 1, 'chastity': 1, 'device': 1, 'beating': 1, 'watt': 1, 'yor': 1, 'tank': 1, 'stressed': 1, 'depressed': 1, 'sozi': 1, 'culdnt': 1, 'talkbut': 1, 'wannatell': 1, 'wenwecan': 1, 'properly': 1, 'marvel': 1, 'ultimate': 1, '83338': 1, '8ball': 1, 'dai': 1, 'naal': 1, 'eruku': 1, 'cr': 1, 'protect': 1, 'sib': 1, 'sensitive': 1, 'atm': 1, 'gosh': 1, 'spose': 1, 'bx420': 1, 'ip4': 1, '5we': 1, 'pop': 1, 'eviction': 1, 'spiral': 1, 'michael': 1, 'riddance': 1, 'include': 1, 'mcfly': 1, 'ab': 1, 'sara': 1, 'jorge': 1, 'smith': 1, 'switch': 1, 'instruction': 1, 'ploughing': 1, 'pile': 1, 'ironing': 1, 'chinky': 1, 'liver': 1, 'pierre': 1, 'cardin': 1, '08715203656': 1, '42049': 1, 'notixiquating': 1, 'laxinorficated': 1, 'bambling': 1, 'entropication': 1, 'oblisingately': 1, 'opted': 1, 'masteriastering': 1, 'amplikater': 1, 'fidalfication': 1, 'champlaxigating': 1, 'atrocious': 1, 'wotz': 1, 'junna': 1, 'sorta': 1, 'blown': 1, 'smsservices': 1, 'yourinclusive': 1, 'bangbabes': 1, 'bangb': 1, 'finishing': 1, 'shattered': 1, 'randomly': 1, 'loyal': 1, '09066380611': 1, 'rct': 1, 'thnq': 1, 'adrian': 1, 'rgds': 1, 'vatian': 1, 'ijust': 1, 'talked': 1, 'headset': 1, 'adp': 1, 'thinl': 1, 'seeking': 1, 'freak': 1, 'us': 1, 'jersey': 1, 'devil': 1, 'wing': 1, 'incorrect': 1, 'coco': 1, 'browsin': 1, 'compulsory': 1, 'hunt': 1, 'changed': 1, 'minor': 1, 'shindig': 1, 'unsubscribed': 1, 'hunk': 1, 'gotbabes': 1, 'charming': 1, '07808247860': 1, '08719899229': 1, '40411': 1, '08712402972': 1, 'wondar': 1, 'flim': 1, 'shb': 1, 'sd': 1, 'occasion': 1, 'celebrated': 1, 'reflection': 1, 'tradition': 1, 'resent': 1, 'failed': 1, 'query': 1, 'customersqueries': 1, 'netvision': 1, 'quiteamuzing': 1, 'thatåõscool': 1, 'dull': 1, 'lotta': 1, 'childporn': 1, 'owl': 1, 'loooooool': 1, 'sense': 1, 'couch': 1, 'andre': 1, 'virgil': 1, 'germany': 1, '0844': 1, '861': 1, 'prepayment': 1, 'telediscount': 1, 'attended': 1, '1mega': 1, 'pixel': 1, '3optical': 1, '5digital': 1, 'doom': 1, 'perpetual': 1, 'dd': 1, 't4get2text': 1, 'whole': 1, 'semi': 1, 'apart': 1, 'evn': 1, 'evr': 1, 'elaine': 1, 'yeesh': 1, 'involve': 1, 'imposed': 1, 'senthil': 1, 'hsbc': 1, 'dehydrated': 1, 'feelin': 1, 'lnly': 1, 'owe': 1, 'gsex': 1, '2667': 1, 'wc1n': 1, '3xx': 1, '49': 1, 'bundle': 1, 'avble': 1, 'mf': 1, 'frankie': 1, 'benny': 1, 'warner': 1, 'gudnite': 1, 'outbid': 1, 'simonwatson5120': 1, 'shinco': 1, 'plyr': 1, 'smsrewards': 1, 'notification': 1, 'subscribed': 1, 'textcomp': 1, 'follows': 1, 'subsequent': 1, 'wks': 1, '08707500020': 1, 'prominent': 1, 'bite': 1, 'cheek': 1, 'weighed': 1, 'woohoo': 1, 'ft': 1, 'combination': 1, '530': 1, 'raglan': 1, 'behind': 1, 'cricket': 1, 'ground': 1, 'closeby': 1, 'unfortunately': 1, 'arent': 1, 'upon': 1, 'mailed': 1, 'varma': 1, 'regarding': 1, 'cleaning': 1, 'annoying': 1, 'soup': 1, 'yummmm': 1, 'aww': 1, 'jez': 1, 'todo': 1, 'workand': 1, 'whilltake': 1, 'ay': 1, 'wkg': 1, 'cheyyamo': 1, 'fujitsu': 1, 'ibm': 1, 'hp': 1, 'avalarr': 1, 'hollalater': 1, 'machi': 1, 'unni': 1, 'recharge': 1, 'british': 1, 'dial': 1, 'bx526': 1, 'sw73ss': 1, 'lobby': 1, 'thout': 1, 'every1': 1, 'ava': 1, 'goodtime': 1, 'oli': 1, 'melnite': 1, 'ifink': 1, 'everythin': 1, 'l8rs': 1, 'yogasana': 1, 'stripe': 1, 'skirt': 1, 'ooh': 1, '4got': 1, 'dancing': 1, 'moseley': 1, 'lately': 1, 'skye': 1, 'darker': 1, 'styling': 1, 'terror': 1, 'cruel': 1, 'decent': 1, 'joker': 1, 'rounder': 1, 'required': 1, 'wednesday': 1, 'revealing': 1, 'rcb': 1, 'battle': 1, 'bang': 1, 'kochi': 1, 'pounded': 1, 'route': 1, 'pt2': 1, 'txtin': 1, '4info': 1, 'dippeditinadew': 1, 'lovingly': 1, 'itwhichturnedinto': 1, 'gifted': 1, 'tomeandsaid': 1, 'promotion': 1, '8714714': 1, 'buzzzz': 1, 'chest': 1, 'vibrator': 1, 'shake': 1, 'practising': 1, 'curtsey': 1, 'chase': 1, 'crossing': 1, 'batt': 1, 'hasbro': 1, 'jump': 1, 'hoop': 1, 'slice': 1, 'breadstick': 1, '08714712379': 1, 'mobsi': 1, '391784': 1, 'rushing': 1, 'cereal': 1, 'gari': 1, '9ja': 1, 'crammed': 1, '3750': 1, '7250': 1, 'skint': 1, 'fancied': 1, 'bevy': 1, 'waz': 1, 'othrs': 1, 'watchng': 1, 'planet': 1, 'comfey': 1, 'prasanth': 1, 'ettans': 1, 'kfc': 1, 'gravy': 1, '7634': 1, '7684': 1, 'jelly': 1, 'arr': 1, 'oscar': 1, 'trauma': 1, 'swear': 1, 'ikea': 1, 'spelled': 1, 'cap': 1, 'yelling': 1, 'mess': 1, 'bullshit': 1, 'wuld': 1, 'everyboy': 1, 'xxxxxxxx': 1, 'potato': 1, 'ratio': 1, 'hor': 1, 'florida': 1, 'holla': 1, 'bike': 1, 'chgs': 1, 'rcv': 1, 'played': 1, 'dual': 1, 'flirtparty': 1, 'replys150': 1, 'flow': 1, 'developed': 1, 'ovarian': 1, 'cyst': 1, 'shrink': 1, 'shining': 1, 'neighbor': 1, 'neshanth': 1, 'smartcall': 1, '68866': 1, 'subscriptn3gbp': 1, '08448714184': 1, 'landlineonly': 1, 'sane': 1, 'constantly': 1, 'helping': 1, 'pobox202': 1, 'nr31': 1, '7zs': 1, '450pw': 1, 'idiot': 1, 'girlie': 1, 'belive': 1, 'uploaded': 1, 'wishin': 1, 'profile': 1, 'bpo': 1, 'dileep': 1, 'muchand': 1, 'venugopal': 1, 'mentioned': 1, 'buzy': 1, 'esplanade': 1, 'pobox84': 1, 'm263uz': 1, 'nose': 1, 'essay': 1, 'sleepin': 1, 'honesty': 1, 'silently': 1, 'stage': 1, 'wildlife': 1, 'want2come': 1, 'that2worzels': 1, 'wizzle': 1, 'checkin': 1, '09066660100': 1, '2309': 1, 'firmware': 1, 'destination': 1, 'chapter': 1, 'anthony': 1, 'photoshop': 1, 'jade': 1, 'paul': 1, 'barmed': 1, 'musthu': 1, 'yck': 1, 'wright': 1, 'ceiling': 1, 'dawn': 1, 'refreshed': 1, '09058097189': 1, 'ls15hb': 1, 'rejected': 1, 'meatball': 1, 'chit': 1, 'logon': 1, '8883': 1, 'cm': 1, '4217': 1, 'w1a': 1, '6zf': 1, '118p': 1, 'mallika': 1, 'sherawat': 1, 'fridge': 1, '69969': 1, 'bcmsfwc1n3xx': 1, 'lib': 1, 'wamma': 1, 'doggin': 1, 'shame': 1, 'wall': 1, 'dust': 1, '21870000': 1, 'mailbox': 1, 'messaging': 1, 'alert': 1, '09056242159': 1, 'retrieve': 1, 'infra': 1, 'returning': 1, 'okey': 1, 'doke': 1, 'laying': 1, 'treated': 1, 'cashto': 1, '08000407165': 1, 'getstop': 1, '88222': 1, 'php': 1, 'sun0819': 1, 'general': 1, 'defer': 1, 'admission': 1, '09061743811': 1, 'engin': 1, 'tool': 1, 'mys': 1, 'mapquest': 1, 'dogwood': 1, '85069': 1, 'verify': 1, 'usher': 1, 'britney': 1, 'brolly': 1, '2mrw': 1, 'franxx': 1, '79': 1, '08704439680ts': 1, 'build': 1, 'snowman': 1, 'angel': 1, 'snowball': 1, 'fight': 1, 'recorded': 1, 'brah': 1, 'timin': 1, 'wtlp': 1, 'sip': 1, 'cappuccino': 1, 'vijaykanth': 1, 'drunken': 1, 'lovly': 1, 'success': 1, 'pansy': 1, 'jungle': 1, '4a': 1, 'various': 1, 'yeovil': 1, 'motor': 1, 'max': 1, 'table': 1, 'occupied': 1, 'brisk': 1, 'dearly': 1, 'questioned': 1, 'murder': 1, 'cook': 1, 'gardener': 1, 'vegetable': 1, 'neighbour': 1, 'arrested': 1, 'lasting': 1, 'section': 1, 'clearer': 1, 'breathing': 1, 'bothering': 1, 'printed': 1, 'sculpture': 1, '09061743810': 1, 'anywhere': 1, 'hunting': 1, 'steve': 1, 'ditto': 1, 'catching': 1, 'advise': 1, 'recent': 1, 'review': 1, '1500': 1, '09066368470': 1, '449071512431': 1, '1250': 1, '09071512433': 1, '050703': 1, 'callcost': 1, 'mobilesvary': 1, 'msn': 1, 'predicte': 1, 'natalie': 1, 'natalie2k9': 1, 'yalru': 1, 'astne': 1, 'innu': 1, 'mundhe': 1, 'halla': 1, 'bilo': 1, 'edhae': 1, 'ovr': 1, 'vargu': 1, 'n9dx': 1, 'achan': 1, 'amma': 1, 'document': 1, 'submitted': 1, 'stapati': 1, 'maturity': 1, '09066649731from': 1, 'scenery': 1, 'whereare': 1, 'friendsare': 1, 'thekingshead': 1, 'canlove': 1, '08002986030': 1, 'hack': 1, 'backdoor': 1, 'fraction': 1, 'neo69': 1, '09050280520': 1, 'subscribe': 1, 'dp': 1, 'bcm': 1, '8027': 1, 'delay': 1, 'necessarily': 1, 'headin': 1, 'hhahhaahahah': 1, 'rofl': 1, 'nig': 1, 'leonardo': 1, 'cozy': 1, 'blogging': 1, 'magicalsongs': 1, 'blogspot': 1, 'yay': 1, 'wenever': 1, 'notified': 1, 'marketing': 1, '84122': 1, '08450542832': 1, 'smsing': 1, 'lakh': 1, 'selflessness': 1, '08708800282': 1, 'arrived': 1, 'okmail': 1, 'notice': 1, '09061743806': 1, 'box326': 1, 'printing': 1, 'handing': 1, 'approx': 1, '07090298926': 1, '9307622': 1, 'wisdom': 1, 'alwys': 1, '125': 1, 'freeentry': 1, 'xt': 1, 'placement': 1, 'amrita': 1, 'ummmmmaah': 1, 'tease': 1, 'grave': 1, '730': 1, 'skype': 1, '08718726970': 1, 'siva': 1, 'alfie': 1, 'moon': 1, 'm8s': 1, 'nokias': 1, '08701417012': 1, 'transfered': 1, 'dang': 1, '123': 1, '1450': 1, '09050002311': 1, 'b4280703': 1, '08718727868': 1, 'motivating': 1, 'steal': 1, 'sliding': 1, 'invite': 1, 'storming': 1, 'phne': 1, 'wt': 1, 'margaret': 1, 'girlfrnd': 1, 'grahmbell': 1, 'invnted': 1, 'telphone': 1, '4get': 1, 'thus': 1, 'oreo': 1, 'truffle': 1, 'pimple': 1, 'outsider': 1, 'human': 1, 'natural': 1, 'logoff': 1, 'squishy': 1, 'mwahs': 1, 'coveragd': 1, 'vasai': 1, 'clock': 1, 'swollen': 1, 'gland': 1, 'ammo': 1, 'ak': 1, 'reache': 1, 'wi': 1, 'nz': 1, 'tai': 1, 'feng': 1, 'reservation': 1, 'nordstrom': 1, 'figuring': 1, 'conference': 1, 'everyones': 1, 'babysitting': 1, 'dobby': 1, 'escape': 1, 'kavalan': 1, 'steak': 1, 'senor': 1, 'cutie': 1, 'wale': 1, 'hill': 1, 'hon': 1, 'balloon': 1, 'passport': 1, 'sth': 1, 'spec': 1, 'px3748': 1, 'ola': 1, 'partnership': 1, 'invest': 1, 'reliant': 1, 'performance': 1, 'calculated': 1, 'current': 1, 'secured': 1, 'unsecured': 1, '195': 1, '6669': 1, 'blessed': 1, '89105': 1, 'humanity': 1, 'stranger': 1, 'heåõs': 1, '2getha': 1, 'kalainar': 1, 'thenampet': 1, 'raise': 1, 'cthen': 1, 'conclusion': 1, 'footbl': 1, 'crckt': 1, 'tampa': 1, 'milk': 1, 'anyways': 1, 'jide': 1, 'visiting': 1, 'okies': 1, 'lovin': 1, 'edge': 1, 'propose': 1, 'seing': 1, 'bloody': 1, 'funky': 1, 'asssssholeeee': 1, 'reaction': 1, 'openin': 1, 'formal': 1, 'puttin': 1, 'wating': 1, 'configure': 1, 'dodgey': 1, 'recovery': 1, 'mathews': 1, 'tait': 1, 'anderson': 1, 'arnt': 1, 'xxxxxxxxxxxxxx': 1, 'inner': 1, 'tigress': 1, 'chik': 1, 'filth': 1, '69669': 1, 'saristar': 1, 'e14': 1, '9yt': 1, '08701752560': 1, '450p': 1, 'stop2': 1, 'grateful': 1, 'happier': 1, 'daaaaa': 1, 'miiiiiiissssssssss': 1, 'wnevr': 1, 'fal': 1, 'fals': 1, 'yen': 1, 'madodu': 1, 'nav': 1, 'pretsorginta': 1, 'nammanna': 1, 'pretsovru': 1, 'alwa': 1, 'eveb': 1, 'cudnt': 1, 'drove': 1, 'ctla': 1, 'ente': 1, 'ishtamayoo': 1, 'bakrid': 1, 'breathe1': 1, 'crazyin': 1, 'sleepingwith': 1, 'finest': 1, 'ymca': 1, 'pobox365o4w45wq': 1, 'shoving': 1, 'necesity': 1, 'witout': 1, 'colleg': 1, 'wth': 1, 'espe': 1, 'irritated': 1, '4wrd': 1, 'wthout': 1, 'takecare': 1, 'wither': 1, '23f': 1, '23g': 1, 'youdoing': 1, 'shiny': 1, 'warming': 1, 'btwn': 1, 'sppok': 1, 'lamp': 1, 'onwards': 1, 'lf56': 1, 'propsd': 1, 'gv': 1, 'lv': 1, 'lttrs': 1, 'threw': 1, 'aproach': 1, 'dt': 1, 'truck': 1, 'speeding': 1, 'wn': 1, 'cn': 1, 'shouted': 1, 'thy': 1, 'lived': 1, 'happily': 1, '2gthr': 1, 'drinking': 1, 'evrydy': 1, 'hv': 1, 'brainless': 1, 'doll': 1, 'vehicle': 1, 'sariyag': 1, 'madoke': 1, 'barolla': 1, 'fundamental': 1, 'eighth': 1, 'tex': 1, 'mecause': 1, 'werebored': 1, 'okden': 1, 'uin': 1, 'soundåõs': 1, 'likeyour': 1, 'gr8fun': 1, 'updat': 1, 'countinlots': 1, 'xxxxx': 1, '08718738034': 1, 'dose': 1, 'quarter': 1, 'noooooooo': 1, 'fair': 1, 'mei': 1, 'bao': 1, 'sugardad': 1, 'forgiven': 1, 'ambitious': 1, '0871277810910p': 1, 'formatting': 1, '09065174042': 1, '07821230901': 1, '07742676969': 1, '786': 1, 'unredeemed': 1, '08719180248': 1, '45239': 1, 'alaikkum': 1, 'respectful': 1, 'ujhhhhhhh': 1, 'shipped': 1, 'sandiago': 1, 'parantella': 1, 'simpson': 1, '2007': 1, 'band': 1, 'relaxing': 1, '7am': 1, '5ish': 1, 'dip': 1, 'str8': 1, 'classic': 1, '200p': 1, 'consider': 1, 'excused': 1, '62220cncl': 1, 'stopcs': 1, '08717890890å': 1, 'classmate': 1, 'shore': 1, 'disconnect': 1, 'iz': 1, 'terrorist': 1, 'itz': 1, 'confirmd': 1, 'verified': 1, 'cnn': 1, 'ibn': 1, 'hont': 1, 'urfeeling': 1, 'bettersn': 1, 'probthat': 1, 'overdose': 1, 'lovejen': 1, 'amk': 1, 'telugu': 1, 'sexychat': 1, 'chatting': 1, 'signal': 1, 'unusual': 1, 'snogs': 1, 'grandma': 1, 'parade': 1, 'miwa': 1, 'allday': 1, '9755': 1, 'abeg': 1, 'sponsor': 1, '0776xxxxxxx': 1, 'fat': 1, 'button': 1, 'judgemental': 1, 'waitin': 1, 'randomlly': 1, 'esaplanade': 1, 'everywhere': 1, 'dirt': 1, 'floor': 1, 'flowing': 1, 'chore': 1, 'exist': 1, 'hail': 1, 'mist': 1, 'l': 1, 'goodnoon': 1, '0089': 1, 'digit': 1, '09063442151': 1, 'ûªm': 1, 'ûªt': 1, 'pure': 1, 'hearted': 1, 'smiley': 1, 'uh': 1, 'missy': 1, 'ccna': 1, 'arranging': 1, 'lightly': 1, 'checkboxes': 1, 'pocy': 1, 'nothin': 1, 'hanger': 1, '30th': 1, 'areyouunique': 1, 'heaven': 1, 'xclusive': 1, 'clubsaisai': 1, 'speciale': 1, 'zouk': 1, 'nichols': 1, '07946746291': 1, '07880867867': 1, 'scary': 1, 'crash': 1, '24m': 1, 'suppose': 1, 'technical': 1, 'dr': 1, 'appt': 1, 'ericsson': 1, 'salesman': 1, 'bathing': 1, 'amigo': 1, 'punj': 1, 'lock': 1, 'keypad': 1, 'canteen': 1, 'pisces': 1, 'aquarius': 1, '3miles': 1, 'wifi': 1, 'spiritual': 1, 'gamb': 1, 'offense': 1, 'radio': 1, 'connection': 1, 'coincidence': 1, 'shouting': 1, 'nacho': 1, 'cocksucker': 1, 'ipads': 1, 'worthless': 1, 'novelty': 1, 'toilet': 1, 'stolen': 1, 'cop': 1, 'envy': 1, 'persolvo': 1, 'forå': 1, '38': 1, 'kath': 1, 'manchester': 1, 'flood': 1, 'toledo': 1, 'fishrman': 1, 'waited': 1, 'sack': 1, 'strtd': 1, 'throwin': 1, 'in2': 1, 'atlast': 1, '1stone': 1, 'nowhere': 1, 'ikno': 1, 'doesdiscount': 1, 'shitinnit': 1, 'cousin': 1, 'hairdresser': 1, 'beforehand': 1, 'gmw': 1, 'connected': 1, 'pookie': 1, 'ups': 1, '3days': 1, '2wks': 1, 'usps': 1, 'bribe': 1, 'nipost': 1, 'loud': 1, 'spontaneously': 1, 'goodevening': 1, 'rayman': 1, 'golf': 1, 'o2': 1, 'activ8': 1, '0': 1, 'termsapply': 1, 'dizzamn': 1, 'suitemates': 1, 'stash': 1, 'dry': 1, 'sitter': 1, 'kaitlyn': 1, 'lov': 1, 'likely': 1, 'otside': 1, 'fiting': 1, 'mj': 1, 'specific': 1, 'cashed': 1, 'announced': 1, 'blog': 1, 'dubsack': 1, '2nights': 1, 'uve': 1, 'wildest': 1, 'bold2': 1, 'frndship': 1, 'luton': 1, '0125698789': 1, 'tiime': 1, 'bbd': 1, 'dvg': 1, 'vinobanagar': 1, 'ru': 1, 'becausethey': 1, '09058098002': 1, 'pobox1': 1, 'w14rg': 1, 'faded': 1, 'glory': 1, 'ralphs': 1, 'replacement': 1, 'murali': 1, 'finn': 1, 'dusk': 1, 'puzzle': 1, 'randy': 1, 'antha': 1, 'corrct': 1, 'dane': 1, '88800': 1, '89034': 1, '08718711108': 1, 'prop': 1, 'arithmetic': 1, 'percentage': 1, 'chocolate': 1, 'melt': 1, 'plate': 1, 'leftover': 1, 'carry': 1, 'disturbing': 1, 'hamster': 1, '1pm': 1, 'xam': 1, '1thing': 1, 'answr': 1, '09066368753': 1, '97n7qp': 1, 'unless': 1, 'tour': 1, 'curious': 1, 'mandy': 1, 'sullivan': 1, 'hotmix': 1, 'fm': 1, '09041940223': 1, '29': 1, 'transferred': 1, 'garage': 1, 'exhaust': 1, 'replacing': 1, 'ovulate': 1, '3wks': 1, 'fret': 1, 'û_thanks': 1, 'specialisation': 1, 'labor': 1, 'shakara': 1, 'beggar': 1, 'reassuring': 1, 'onluy': 1, 'offcampus': 1, '087147123779am': 1, 'french': 1, 'fooled': 1, 'twin': 1, 'disappeared': 1, 'fedex': 1, '09066364311': 1, 'poortiyagi': 1, 'odalebeku': 1, 'hanumanji': 1, 'hanuman': 1, 'bajarangabali': 1, 'maruti': 1, 'pavanaputra': 1, 'sankatmochan': 1, 'ramaduth': 1, 'mahaveer': 1, 'janarige': 1, 'ivatte': 1, 'kalisidare': 1, 'olage': 1, 'ondu': 1, 'keluviri': 1, 'maretare': 1, 'inde': 1, 'dodda': 1, 'problum': 1, 'nalli': 1, 'siguviri': 1, 'idu': 1, 'matra': 1, 'neglet': 1, 'penis': 1, 'whether': 1, 'western': 1, 'sen': 1, 'finance': 1, 'guai': 1, 'pass': 1, '08704439680': 1, 'booking': 1, 'challenge': 1, 'immed': 1, 'hai': 1, 'rajitha': 1, 'ranju': 1, 'needy': 1, 'videosound': 1, 'gold': 1, 'videosounds': 1, 'musicnews': 1, '09701213186': 1, 'unmits': 1, 'miserable': 1, 'birth': 1, 'massive': 1, 'gut': 1, 'wrenching': 1, 'nudist': 1, 'themed': 1, '09061790121': 1, '09066612661': 1, 'eh74rr': 1, '0870737910216yrs': 1, '07781482378': 1, 'praps': 1, 'helloooo': 1, 'begging': 1, 'jetton': 1, 'reassurance': 1, 'gent': 1, '09064012160': 1, 'ûªve': 1, 'instant': 1, '08715203028': 1, '9th': 1, 'sday': 1, 'deus': 1, 'officially': 1, 'philosophical': 1, 'hole': 1, 'nuerologist': 1, 'ystrday': 1, '0870141701216': 1, 'norm': 1, '4txt': 1, '120p': 1, '1030': 1, 'rumour': 1, 'teenager': 1, 'dessert': 1, 'suntec': 1, 'airtel': 1, 'lyricalladie': 1, 'hmmross': 1, 'hype': 1, 'plaza': 1, '700': 1, 'studio': 1, 'taken': 1, 'bedrm': 1, 'roomate': 1, 'graduated': 1, 'kickboxing': 1, 'satsgettin': 1, '47per': 1, 'vid': 1, 'finishd': 1, 'dresser': 1, 'sized': 1, 'taught': 1, 'becaus': 1, 'verifying': 1, 'prabu': 1, 'response': 1, 'powerful': 1, 'weapon': 1, 'exposed': 1, 'vomiting': 1, 'clear': 1, '09058094565': 1, 'weirdo': 1, 'hella': 1, 'ish': 1, 'symptom': 1, 'beloved': 1, 'forgotten': 1, 'escalator': 1, 'related': 1, 'trade': 1, 'arul': 1, 'host': 1, 'based': 1, 'idp': 1, 'linux': 1, 'pours': 1, 'becoz': 1, 'center': 1, '447797706009': 1, '09065394514': 1, '545': 1, '2years': 1, 'strain': 1, 'practical': 1, 'grab': 1, 'tagged': 1, 'receiving': 1, 'triple': 1, 'echo': 1, 'trash': 1, 'ofcourse': 1, 'forgive': 1, '08712103738': 1, 'pleassssssseeeeee': 1, 'sportsx': 1, 'saeed': 1, 'football': 1, 'gamestar': 1, 'active': 1, '250k': 1, 'scoring': 1, 'register': 1, '88088': 1, 'blastin': 1, 'occur': 1, 'rajnikant': 1, 'swimming': 1, 'ocean': 1, 'asda': 1, 'uncomfortable': 1, 'sabarish': 1, 'hopefully': 1, 'wesley': 1, 'mag': 1, 'avo': 1, '1225': 1, '50award': 1, '3100': 1, 'crap': 1, 'borin': 1, 'boggy': 1, 'biatch': 1, 'onion': 1, 'someplace': 1, 'wise': 1, '9t': 1, 'clever': 1, 'pear': 1, '09061743386': 1, '116': 1, 'somerset': 1, 'rdy': 1, 'ship': 1, 'loneliness': 1, 'tirunelvali': 1, 'lac': 1, 'deposited': 1, 'taxless': 1, 'suply': 1, 'citizen': 1, 'imf': 1, 'blocked': 1, 'corrupt': 1, 'itna': 1, 'karo': 1, 'ki': 1, 'pura': 1, 'padhe': 1, 'dramatic': 1, 'weåõve': 1, 'mint': 1, 'plumber': 1, 'tape': 1, 'wrench': 1, 'wiskey': 1, 'brandy': 1, 'rum': 1, 'gin': 1, 'scotch': 1, 'shampain': 1, 'kudi': 1, 'yarasu': 1, 'dhina': 1, 'vaazhthukkal': 1, 'jam': 1, 'bread': 1, 'hannaford': 1, 'wheat': 1, 'chex': 1, 'slippery': 1, 'nu': 1, 'edu': 1, 'sg': 1, 'phyhcmk': 1, 'pc1323': 1, 'hrishi': 1, 'prabha': 1, 'soryda': 1, 'sory': 1}\n"
     ],
     "name": "stdout"
    }
   ]
  },
  {
   "cell_type": "code",
   "metadata": {
    "id": "vsxPgXgniu6S",
    "executionInfo": {
     "status": "ok",
     "timestamp": 1617022118901,
     "user_tz": -180,
     "elapsed": 798,
     "user": {
      "displayName": "Алексей Петренко",
      "photoUrl": "",
      "userId": "00651841928058647062"
     }
    }
   },
   "source": [
    "def text_to_bow(text):\n",
    "    bow_vector = [0] * len(bow_vocabulary)\n",
    "    bow_list = list(bow_vocabulary.keys())\n",
    "\n",
    "    for token in text.split(' '):\n",
    "      if token in bow_list:\n",
    "        bow_vector[bow_list.index(token)] = 1\n",
    "    return np.array(bow_vector, 'float32')"
   ],
   "execution_count": 9,
   "outputs": []
  },
  {
   "cell_type": "code",
   "metadata": {
    "id": "qlrAJUJ7iu6T",
    "executionInfo": {
     "status": "ok",
     "timestamp": 1617022126149,
     "user_tz": -180,
     "elapsed": 5782,
     "user": {
      "displayName": "Алексей Петренко",
      "photoUrl": "",
      "userId": "00651841928058647062"
     }
    }
   },
   "source": [
    "X_train_bow = np.stack(list(map(text_to_bow, texts_train)))\n",
    "X_test_bow = np.stack(list(map(text_to_bow, texts_test)))"
   ],
   "execution_count": 10,
   "outputs": []
  },
  {
   "cell_type": "code",
   "metadata": {
    "id": "1LjR-8WTiu6T",
    "executionInfo": {
     "status": "ok",
     "timestamp": 1617022129260,
     "user_tz": -180,
     "elapsed": 790,
     "user": {
      "displayName": "Алексей Петренко",
      "photoUrl": "",
      "userId": "00651841928058647062"
     }
    }
   },
   "source": [
    "k_max = len(set(' '.join(texts_train).split()))"
   ],
   "execution_count": 11,
   "outputs": []
  },
  {
   "cell_type": "markdown",
   "metadata": {
    "id": "NtSryQGPiu6T"
   },
   "source": [
    "__Naive bayes:__ perhaps the simplest model that can solve your problem is the so called Naive Bayes Classifier. \n",
    "Its a trivial linear model that assumes the independence of input features and computes the coefficients by, well, counting probabilities."
   ]
  },
  {
   "cell_type": "code",
   "metadata": {
    "id": "CVPx6W4oiu6T",
    "executionInfo": {
     "status": "ok",
     "timestamp": 1617022131788,
     "user_tz": -180,
     "elapsed": 820,
     "user": {
      "displayName": "Алексей Петренко",
      "photoUrl": "",
      "userId": "00651841928058647062"
     }
    }
   },
   "source": [
    "class BinaryNaiveBayes:\n",
    "    delta = 1.0  # add this to all word counts to smoothe probabilities\n",
    "\n",
    "    def fit(self, X, y):\n",
    "        \"\"\"\n",
    "        Fit a NaiveBayes classifier for two classes\n",
    "        :param X: [batch_size, vocab_size] of bag-of-words features\n",
    "        :param y: [batch_size] of binary targets {0, 1}\n",
    "        \"\"\"\n",
    "        # first, compute marginal probabilities of every class, p(y=k) for k = 0,1\n",
    "        self.p_y = np.array([sum(c == 0 for c in y) / len(y), sum(c == 1 for c in y) / len(y)], 'float32')\n",
    "\n",
    "        # count occurrences of each word in texts with label 1 and label 0 separately\n",
    "        word_counts_positive = [0] * len(X[0])\n",
    "        word_counts_negative = [0] * len(X[0])\n",
    "\n",
    "        for t in range(len(y)):\n",
    "            if y[t] == 1:\n",
    "                for x in range(len(X[t])):\n",
    "                    word_counts_positive[x] += X[t][x]\n",
    "            else:\n",
    "                for x in range(len(X[t])):\n",
    "                    word_counts_negative[x] += X[t][x]\n",
    "\n",
    "        # finally, lets use those counts to estimate p(x | y = k) for k = 0, 1\n",
    "        self.p_x_given_positive = [0.0] * len(word_counts_positive)\n",
    "        self.p_x_given_negative = [0.0] * len(word_counts_negative)\n",
    "\n",
    "        for i in range(len(word_counts_positive)):\n",
    "            self.p_x_given_positive[i] = (word_counts_positive[i] + self.delta) / sum(word_counts_positive)\n",
    "            self.p_x_given_negative[i] = (word_counts_negative[i] + self.delta) / sum(word_counts_negative)\n",
    "            \n",
    "        # # both must be of shape [vocab_size]; and don't forget to add self.delta!\n",
    "        return self\n",
    "\n",
    "    def predict_scores(self, X):\n",
    "        \"\"\"\n",
    "        :param X: [batch_size, vocab_size] of bag-of-words features\n",
    "        :returns: a matrix of scores [batch_size, k] of scores for k-th class\n",
    "        \"\"\"\n",
    "\n",
    "        # compute scores for positive and negative classes separately.\n",
    "        # these scores should be proportional to log-probabilities of the respective target {0, 1}\n",
    "        # note: if you apply logarithm to p_x_given_*, the total log-probability can be written\n",
    "        # as a dot-product with X\n",
    "        p_x_given_negative_lg = list(map(lambda p: np.log(p), self.p_x_given_negative))\n",
    "        p_x_given_positive_lg = list(map(lambda p: np.log(p), self.p_x_given_positive))\n",
    "\n",
    "        score_negative = [np.log(self.p_y[0]) + np.dot(p_x_given_negative_lg, x) for x in X]\n",
    "        score_positive = [np.log(self.p_y[1]) + np.dot(p_x_given_positive_lg, x) for x in X]\n",
    "\n",
    "        # you can compute total p(x | y=k) with a dot product\n",
    "        return np.stack([score_negative, score_positive], axis=-1)\n",
    "\n",
    "    def predict(self, X):\n",
    "        return self.predict_scores(X).argmax(axis=-1)\n"
   ],
   "execution_count": 12,
   "outputs": []
  },
  {
   "cell_type": "code",
   "metadata": {
    "id": "Hwqi7p00iu6U",
    "executionInfo": {
     "status": "ok",
     "timestamp": 1617022158301,
     "user_tz": -180,
     "elapsed": 22849,
     "user": {
      "displayName": "Алексей Петренко",
      "photoUrl": "",
      "userId": "00651841928058647062"
     }
    }
   },
   "source": [
    "naive_model = BinaryNaiveBayes().fit(X_train_bow, y_train)"
   ],
   "execution_count": 13,
   "outputs": []
  },
  {
   "cell_type": "code",
   "metadata": {
    "colab": {
     "base_uri": "https://localhost:8080/",
     "height": 299
    },
    "id": "3AbgUQADiu6V",
    "executionInfo": {
     "status": "ok",
     "timestamp": 1617022192230,
     "user_tz": -180,
     "elapsed": 28358,
     "user": {
      "displayName": "Алексей Петренко",
      "photoUrl": "",
      "userId": "00651841928058647062"
     }
    },
    "outputId": "1ee9794e-5b24-428c-e470-570f5d8f7afa"
   },
   "source": [
    "from sklearn.metrics import roc_auc_score, roc_curve\n",
    "\n",
    "for name, X, y, model in [\n",
    "    ('train', X_train_bow, y_train, naive_model),\n",
    "    ('test ', X_test_bow, y_test, naive_model)\n",
    "]:\n",
    "    proba = model.predict_scores(X)[:, 1] - model.predict_scores(X)[:, 0]\n",
    "    auc = roc_auc_score(y, proba)\n",
    "    plt.plot(*roc_curve(y, proba)[:2], label='%s AUC=%.4f' % (name, auc))\n",
    "\n",
    "plt.plot([0, 1], [0, 1], '--', color='black',)\n",
    "plt.legend(fontsize='large')\n",
    "plt.grid()\n",
    "\n",
    "test_accuracy = np.mean(naive_model.predict(X_test_bow) == y_test)\n",
    "print(f\"Model accuracy: {test_accuracy:.3f}\")\n",
    "assert test_accuracy > 0.75, \"Accuracy too low. There's likely a mistake in the code.\"\n",
    "print(\"Well done!\")"
   ],
   "execution_count": 14,
   "outputs": [
    {
     "output_type": "stream",
     "text": [
      "Model accuracy: 0.980\n",
      "Well done!\n"
     ],
     "name": "stdout"
    },
    {
     "output_type": "display_data",
     "data": {
      "image/png": "[encoded data removed]",
      "text/plain": [
       "<Figure size 432x288 with 1 Axes>"
      ]
     },
     "metadata": {
      "tags": [],
      "needs_background": "light"
     }
    }
   ]
  },
  {
   "cell_type": "markdown",
   "metadata": {
    "id": "gXFp_Demiu6V"
   },
   "source": [
    "Okay, it definitely learned *something*. Now let's figure out what exactly it learned. The simplest way to do that is by highlighting which words have a greatest ratio of positive to negative probability or vice versa. We'll go with the negative one [because reasons](https://www.urbandictionary.com/define.php?term=because%20reasons).\n",
    "\n",
    "__Your task__ is to compute top-25 words that have the __highest__ ratio of ${p(x_i | y=0)} \\over {p(x_i | y=1)}$. Enjoy!"
   ]
  },
  {
   "cell_type": "code",
   "metadata": {
    "colab": {
     "base_uri": "https://localhost:8080/"
    },
    "id": "MYVP6voyiu6V",
    "executionInfo": {
     "status": "ok",
     "timestamp": 1617023971214,
     "user_tz": -180,
     "elapsed": 780,
     "user": {
      "displayName": "Алексей Петренко",
      "photoUrl": "",
      "userId": "00651841928058647062"
     }
    },
    "outputId": "0e5d2292-bc24-4148-fa1a-e4b040afa1f4"
   },
   "source": [
    "# hint: use naive_model.p_*\n",
    "bow_vocabulary_2 = list(bow_vocabulary.keys())\n",
    "\n",
    "probability_ratio = sorted(\n",
    "    [(naive_model.p_x_given_positive[i] / naive_model.p_x_given_negative[i], i) \n",
    "    for i in range(len(naive_model.p_x_given_positive))], key=lambda tup: tup[0], \n",
    "    reverse=True)\n",
    "\n",
    "top_negative_words = list(map(lambda p: bow_vocabulary_2[p[1]], probability_ratio))[:25]\n",
    "\n",
    "for i, word in enumerate(top_negative_words):\n",
    "    print(f\"#{i}\\t{word.rjust(10, ' ')}\\t(ratio={probability_ratio[bow_vocabulary_2.index(word)][0]})\")"
   ],
   "execution_count": 26,
   "outputs": [
    {
     "output_type": "stream",
     "text": [
      "#0\t     claim\t(ratio=18.009311832841245)\n",
      "#1\t     prize\t(ratio=18.009311832841245)\n",
      "#2\t        uk\t(ratio=14.407449466272995)\n",
      "#3\t         å\t(ratio=36.01862366568249)\n",
      "#4\t      150p\t(ratio=14.407449466272995)\n",
      "#5\t      tone\t(ratio=14.407449466272995)\n",
      "#6\tguaranteed\t(ratio=10.805587099704747)\n",
      "#7\t       500\t(ratio=10.805587099704747)\n",
      "#8\t        16\t(ratio=10.805587099704747)\n",
      "#9\t       www\t(ratio=18.009311832841245)\n",
      "#10\t       100\t(ratio=10.805587099704747)\n",
      "#11\t        18\t(ratio=10.805587099704747)\n",
      "#12\t   awarded\t(ratio=10.805587099704747)\n",
      "#13\t    150ppm\t(ratio=10.805587099704747)\n",
      "#14\t  ringtone\t(ratio=10.805587099704747)\n",
      "#15\t     apply\t(ratio=10.805587099704747)\n",
      "#16\t        50\t(ratio=14.407449466272995)\n",
      "#17\t   service\t(ratio=14.407449466272995)\n",
      "#18\t       000\t(ratio=10.805587099704747)\n",
      "#19\t     pound\t(ratio=10.805587099704747)\n",
      "#20\t      2000\t(ratio=10.805587099704747)\n",
      "#21\tcollection\t(ratio=10.805587099704747)\n",
      "#22\t      http\t(ratio=10.205276705276706)\n",
      "#23\t       10p\t(ratio=10.805587099704747)\n",
      "#24\t  national\t(ratio=9.004655916420623)\n"
     ],
     "name": "stdout"
    }
   ]
  },
  {
   "cell_type": "markdown",
   "metadata": {
    "id": "xmt4ZAV_iu6V"
   },
   "source": [
    "Now lets try something less prehistoric: __Logistic Regression__. Turns out, if you're using silicon instead of an abacus, you can find model weights by optimizing the log-probability of the answer. Though, of course, you don't even need to write it by hand anymore. Let's sklearn it!"
   ]
  },
  {
   "cell_type": "code",
   "metadata": {
    "id": "MlbwzxNWiu6V",
    "executionInfo": {
     "status": "ok",
     "timestamp": 1617022205718,
     "user_tz": -180,
     "elapsed": 1166,
     "user": {
      "displayName": "Алексей Петренко",
      "photoUrl": "",
      "userId": "00651841928058647062"
     }
    }
   },
   "source": [
    "from sklearn.linear_model import LogisticRegression\n",
    "bow_model = LogisticRegression().fit(X_train_bow, y_train)"
   ],
   "execution_count": 16,
   "outputs": []
  },
  {
   "cell_type": "code",
   "metadata": {
    "colab": {
     "base_uri": "https://localhost:8080/",
     "height": 299
    },
    "id": "Q32Th8wQiu6V",
    "executionInfo": {
     "status": "ok",
     "timestamp": 1617022211758,
     "user_tz": -180,
     "elapsed": 1323,
     "user": {
      "displayName": "Алексей Петренко",
      "photoUrl": "",
      "userId": "00651841928058647062"
     }
    },
    "outputId": "717ad232-1c2a-40f5-b22a-01b37bf693cd"
   },
   "source": [
    "from sklearn.metrics import roc_auc_score, roc_curve\n",
    "\n",
    "for name, X, y, model in [\n",
    "    ('train', X_train_bow, y_train, bow_model),\n",
    "    ('test ', X_test_bow, y_test, bow_model)\n",
    "]:\n",
    "    proba = model.predict_proba(X)[:, 1]\n",
    "    auc = roc_auc_score(y, proba)\n",
    "    plt.plot(*roc_curve(y, proba)[:2], label='%s AUC=%.4f' % (name, auc))\n",
    "\n",
    "plt.plot([0, 1], [0, 1], '--', color='black',)\n",
    "plt.legend(fontsize='large')\n",
    "plt.grid()\n",
    "\n",
    "test_accuracy = np.mean(bow_model.predict(X_test_bow) == y_test)\n",
    "print(f\"Model accuracy: {test_accuracy:.3f}\")\n",
    "assert test_accuracy > 0.77, \"Hint: tune the parameter C to improve performance\"\n",
    "print(\"Well done!\")"
   ],
   "execution_count": 17,
   "outputs": [
    {
     "output_type": "stream",
     "text": [
      "Model accuracy: 0.985\n",
      "Well done!\n"
     ],
     "name": "stdout"
    },
    {
     "output_type": "display_data",
     "data": {
      "image/png": "[encoded data removed]",
      "text/plain": [
       "<Figure size 432x288 with 1 Axes>"
      ]
     },
     "metadata": {
      "tags": [],
      "needs_background": "light"
     }
    }
   ]
  },
  {
   "cell_type": "markdown",
   "metadata": {
    "id": "2Wu8kr72iu6V"
   },
   "source": [
    "### Task: implement TF-IDF features\n",
    "\n",
    "Not all words are equally useful. One can prioritize rare words and downscale words like \"and\"/\"or\" by using __tf-idf features__. This abbreviation stands for __text frequency/inverse document frequence__ and means exactly that:\n",
    "\n",
    "$$ feature_i = { Count(word_i \\in x) \\times { log {N \\over Count(word_i \\in D) + \\alpha} }} $$\n",
    "\n",
    "\n",
    ", where x is a single text, D is your dataset (a collection of texts), N is a total number of documents and $\\alpha$ is a smoothing hyperparameter (typically 1). \n",
    "And $Count(word_i \\in D)$ is the number of documents where $word_i$ appears.\n",
    "\n",
    "It may also be a good idea to normalize each data sample after computing tf-idf features.\n",
    "\n",
    "__Your task:__ implement tf-idf features, train a model and evaluate ROC curve. Compare it with basic BagOfWords model from above.\n",
    "\n",
    "Please don't use sklearn/nltk builtin tf-idf vectorizers in your solution :) You can still use 'em for debugging though."
   ]
  },
  {
   "cell_type": "code",
   "metadata": {
    "colab": {
     "base_uri": "https://localhost:8080/",
     "height": 299
    },
    "id": "vJWX9pBgiu6V",
    "executionInfo": {
     "status": "ok",
     "timestamp": 1617022299839,
     "user_tz": -180,
     "elapsed": 43627,
     "user": {
      "displayName": "Алексей Петренко",
      "photoUrl": "",
      "userId": "00651841928058647062"
     }
    },
    "outputId": "85047eee-c54c-40f4-c8f1-51a83b0e631a"
   },
   "source": [
    "def tf(tokens):\n",
    "\n",
    "    voc = dict()\n",
    "\n",
    "    for token in tokens:\n",
    "        if token not in voc.keys():\n",
    "            voc[token] = 1\n",
    "        else:\n",
    "            voc[token] += 1\n",
    "\n",
    "    for key in voc.keys():\n",
    "        voc[key] = voc[key] / len(tokens)\n",
    "\n",
    "    return voc\n",
    "\n",
    "\n",
    "def idf(token, corpus):\n",
    "    return np.log(len(corpus) / (sum([1 for t in corpus if token in t]) + 1))\n",
    "\n",
    "\n",
    "def make_tf_idf_for_tokens(corpus):\n",
    "\n",
    "    corpus = list(map(lambda cmnt: cmnt.split(' '), corpus))\n",
    "\n",
    "    tf_idf_voc = dict()\n",
    "\n",
    "    for comment in corpus:\n",
    "\n",
    "        computed_tf = tf(comment)\n",
    "\n",
    "        for word in computed_tf:\n",
    "\n",
    "            tf_idf_voc[word] = computed_tf[word] * idf(word, corpus)\n",
    "\n",
    "    return dict(sorted(tf_idf_voc.items(), key=lambda item: item[1], reverse=True)[:10000])\n",
    "\n",
    "\n",
    "tf_idf_dict = make_tf_idf_for_tokens(corpus=texts_train)\n",
    "\n",
    "\n",
    "def text_to_tf_idf(text):\n",
    "\n",
    "    tf_idf = [0.0] * len(tf_idf_dict)\n",
    "    tf_idf_map = dict()\n",
    "\n",
    "    for num, word in enumerate(tf_idf_dict, start=0):\n",
    "        tf_idf_map[word] = num\n",
    "\n",
    "    for token in text.split(' '):\n",
    "        if token in tf_idf_map:\n",
    "            tf_idf[tf_idf_map[token]] = tf_idf_dict[token]\n",
    "\n",
    "    return np.array(tf_idf, 'float32')\n",
    "\n",
    "\n",
    "X_train_bow_2 = np.stack(list(map(text_to_tf_idf, texts_train)))\n",
    "X_test_bow_2 = np.stack(list(map(text_to_tf_idf, texts_test)))\n",
    "\n",
    "tf_model = LogisticRegression().fit(X_train_bow_2, y_train)\n",
    "\n",
    "for name, X, y, model in [\n",
    "    ('train', X_train_bow_2, y_train, tf_model),\n",
    "    ('test ', X_test_bow_2, y_test, tf_model)\n",
    "]:\n",
    "    proba = model.predict_proba(X)[:, 1]\n",
    "    auc = roc_auc_score(y, proba)\n",
    "    plt.plot(*roc_curve(y, proba)[:2], label='%s AUC=%.4f' % (name, auc))\n",
    "\n",
    "plt.plot([0, 1], [0, 1], '--', color='black',)\n",
    "plt.legend(fontsize='large')\n",
    "plt.grid()\n",
    "\n",
    "test_accuracy = np.mean(tf_model.predict(X_test_bow_2) == y_test)\n",
    "print(f\"Model accuracy: {test_accuracy:.3f}\")\n",
    "assert test_accuracy > 0.77, \"Hint: tune the parameter C to improve performance\"\n",
    "print(\"Well done!\")"
   ],
   "execution_count": 18,
   "outputs": [
    {
     "output_type": "stream",
     "text": [
      "Model accuracy: 0.967\n",
      "Well done!\n"
     ],
     "name": "stdout"
    },
    {
     "output_type": "display_data",
     "data": {
      "image/png": "[encoded data removed]",
      "text/plain": [
       "<Figure size 432x288 with 1 Axes>"
      ]
     },
     "metadata": {
      "tags": [],
      "needs_background": "light"
     }
    }
   ]
  },
  {
   "cell_type": "markdown",
   "metadata": {
    "id": "V9pOXnNaiu6W"
   },
   "source": [
    "\n",
    "\n",
    "### Solving it better: word vectors\n",
    "\n",
    "Let's try another approach: instead of counting per-word frequencies, we shall map all words to pre-trained word vectors and average over them to get text features.\n",
    "\n",
    "This should give us two key advantages: (1) we now have 10^2 features instead of 10^4 and (2) our model can generalize to word that are not in training dataset.\n",
    "\n",
    "We begin with a standard approach with pre-trained word vectors. However, you may also try\n",
    "* training embeddings from scratch on relevant (unlabeled) data\n",
    "* multiplying word vectors by inverse word frequency in dataset (like tf-idf).\n",
    "* concatenating several embeddings\n",
    "    * call `gensim.downloader.info()['models'].keys()` to get a list of available models\n",
    "* clusterizing words by their word-vectors and try bag of cluster_ids\n",
    "\n",
    "__Note:__ loading pre-trained model may take a while. It's a perfect opportunity to refill your cup of tea/coffee and grab some extra cookies. Or binge-watch some tv series if you're slow on internet connection"
   ]
  },
  {
   "cell_type": "code",
   "metadata": {
    "colab": {
     "base_uri": "https://localhost:8080/"
    },
    "id": "6c7pNKxmiu6W",
    "scrolled": false,
    "executionInfo": {
     "status": "ok",
     "timestamp": 1617022440829,
     "user_tz": -180,
     "elapsed": 113317,
     "user": {
      "displayName": "Алексей Петренко",
      "photoUrl": "",
      "userId": "00651841928058647062"
     }
    },
    "outputId": "53024385-4288-4d29-9053-c2c7788a0848"
   },
   "source": [
    "import gensim.downloader \n",
    "embeddings = gensim.downloader.load(\"glove-wiki-gigaword-100\")\n",
    "\n",
    "# If you're low on RAM or download speed, use \"glove-wiki-gigaword-100\" instead"
   ],
   "execution_count": 19,
   "outputs": [
    {
     "output_type": "stream",
     "text": [
      "[==================================================] 100.0% 128.1/128.1MB downloaded\n"
     ],
     "name": "stdout"
    }
   ]
  },
  {
   "cell_type": "code",
   "metadata": {
    "id": "hOLfnH91iu6W",
    "executionInfo": {
     "status": "ok",
     "timestamp": 1617022444199,
     "user_tz": -180,
     "elapsed": 878,
     "user": {
      "displayName": "Алексей Петренко",
      "photoUrl": "",
      "userId": "00651841928058647062"
     }
    }
   },
   "source": [
    "def vectorize_sum(comment):\n",
    "    \"\"\"\n",
    "    implement a function that converts preprocessed comment to a sum of token vectors\n",
    "    \"\"\"\n",
    "    embedding_dim = embeddings.wv.vectors.shape[1]\n",
    "    features = np.zeros([embedding_dim], dtype='float32')\n",
    "    for token in comment.split(' '):\n",
    "      try:\n",
    "        features += embeddings.get_vector(token)\n",
    "      except KeyError:\n",
    "        pass\n",
    "    return features"
   ],
   "execution_count": 20,
   "outputs": []
  },
  {
   "cell_type": "code",
   "metadata": {
    "colab": {
     "base_uri": "https://localhost:8080/"
    },
    "id": "twL_xBnoiu6W",
    "executionInfo": {
     "status": "ok",
     "timestamp": 1617022448345,
     "user_tz": -180,
     "elapsed": 2056,
     "user": {
      "displayName": "Алексей Петренко",
      "photoUrl": "",
      "userId": "00651841928058647062"
     }
    },
    "outputId": "d49d0ef0-5b3a-4ba1-92b9-330c6b21941c"
   },
   "source": [
    "X_train_wv = np.stack([vectorize_sum(text) for text in texts_train])\n",
    "X_test_wv = np.stack([vectorize_sum(text) for text in texts_test])"
   ],
   "execution_count": 21,
   "outputs": [
    {
     "output_type": "stream",
     "text": [
      "/usr/local/lib/python3.7/dist-packages/ipykernel_launcher.py:5: DeprecationWarning: Call to deprecated `wv` (Attribute will be removed in 4.0.0, use self instead).\n",
      "  \"\"\"\n"
     ],
     "name": "stderr"
    }
   ]
  },
  {
   "cell_type": "code",
   "metadata": {
    "colab": {
     "base_uri": "https://localhost:8080/",
     "height": 265
    },
    "id": "A02svhn-iu6W",
    "executionInfo": {
     "status": "ok",
     "timestamp": 1617022928014,
     "user_tz": -180,
     "elapsed": 1415,
     "user": {
      "displayName": "Алексей Петренко",
      "photoUrl": "",
      "userId": "00651841928058647062"
     }
    },
    "outputId": "b5272528-3fd2-4166-abbc-69c514db7a4d"
   },
   "source": [
    "wv_model = LogisticRegression(max_iter=1000).fit(X_train_wv, y_train)\n",
    "\n",
    "for name, X, y, model in [\n",
    "    ('bow train', X_train_bow, y_train, bow_model),\n",
    "    ('bow test ', X_test_bow, y_test, bow_model),\n",
    "    ('vec train', X_train_wv, y_train, wv_model),\n",
    "    ('vec test ', X_test_wv, y_test, wv_model)\n",
    "]:\n",
    "    proba = model.predict_proba(X)[:, 1]\n",
    "    auc = roc_auc_score(y, proba)\n",
    "    plt.plot(*roc_curve(y, proba)[:2], label='%s AUC=%.4f' % (name, auc))\n",
    "\n",
    "plt.plot([0, 1], [0, 1], '--', color='black',)\n",
    "plt.legend(fontsize='large')\n",
    "plt.grid()\n",
    "\n",
    "assert roc_auc_score(y_test, wv_model.predict_proba(X_test_wv)[:, 1]) > 0.92, \"something's wrong with your features\""
   ],
   "execution_count": 25,
   "outputs": [
    {
     "output_type": "display_data",
     "data": {
      "image/png": "[encoded data removed]",
      "text/plain": [
       "<Figure size 432x288 with 1 Axes>"
      ]
     },
     "metadata": {
      "tags": [],
      "needs_background": "light"
     }
    }
   ]
  },
  {
   "cell_type": "markdown",
   "metadata": {
    "id": "vWfI49K3iu6X"
   },
   "source": [
    "If everything went right, you've just managed to reduce misclassification rate by a factor of two.\n",
    "This trick is very useful when you're dealing with small datasets. However, if you have hundreds of thousands of samples, there's a whole different range of methods for that."
   ]
  }
 ]
}